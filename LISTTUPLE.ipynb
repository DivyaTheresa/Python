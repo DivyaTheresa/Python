{
  "cells": [
    {
      "cell_type": "markdown",
      "metadata": {
        "id": "view-in-github",
        "colab_type": "text"
      },
      "source": [
        "<a href=\"https://colab.research.google.com/github/DivyaTheresa/Python/blob/main/LISTTUPLE.ipynb\" target=\"_parent\"><img src=\"https://colab.research.google.com/assets/colab-badge.svg\" alt=\"Open In Colab\"/></a>"
      ]
    },
    {
      "cell_type": "markdown",
      "metadata": {
        "id": "DyGbLQvGw7z4"
      },
      "source": [
        "\n",
        "\n",
        "\n",
        "LIST:\n"
      ]
    },
    {
      "cell_type": "code",
      "execution_count": null,
      "metadata": {
        "id": "l6jpKuNWb_pU",
        "colab": {
          "base_uri": "https://localhost:8080/"
        },
        "outputId": "c6dca8b5-547e-41c9-9611-d5277032136d"
      },
      "outputs": [
        {
          "output_type": "stream",
          "name": "stdout",
          "text": [
            "4\n",
            "56\n",
            "78\n",
            "23\n",
            "21\n",
            "[56, 78, 23, 21]\n",
            "44.5\n"
          ]
        }
      ],
      "source": [
        "# 1.Take a list of integers and find average of elements.\n",
        "l1=[]\n",
        "n=int(input(\"\"))\n",
        "for i in range(n):\n",
        "  x=int(input(\"\"))\n",
        "  l1.append(x)\n",
        "print(l1)\n",
        "sum=0\n",
        "for i in range(n):\n",
        "  sum=sum+l1[i]\n",
        "  avg=sum/n\n",
        "print(avg)"
      ]
    },
    {
      "cell_type": "markdown",
      "source": [
        "Boolean:\n",
        "True (or) False."
      ],
      "metadata": {
        "id": "iWYt4N9OPMkI"
      }
    },
    {
      "cell_type": "code",
      "execution_count": null,
      "metadata": {
        "colab": {
          "base_uri": "https://localhost:8080/"
        },
        "id": "I4-9q09LJwOk",
        "outputId": "a7bd32f2-7e21-4f4c-f703-b445e818868f"
      },
      "outputs": [
        {
          "output_type": "stream",
          "name": "stdout",
          "text": [
            "3\n",
            "9\n",
            "True\n",
            "89\n",
            "['9', 'True', '89']\n",
            "1\n"
          ]
        }
      ],
      "source": [
        "\n",
        "#2.take list of boolean values and count number of true value.\n",
        "l1=[]\n",
        "n=int(input(\"\"))\n",
        "for i in range(n):\n",
        "  x=input(\"\")\n",
        "  l1.append(x)\n",
        "print(l1)\n",
        "count=0\n",
        "for i in range(n):\n",
        "  if i==True:\n",
        "    count=count+1\n",
        "print(count)"
      ]
    },
    {
      "cell_type": "code",
      "execution_count": null,
      "metadata": {
        "colab": {
          "base_uri": "https://localhost:8080/"
        },
        "id": "Mq1JEaxflMc9",
        "outputId": "d574d988-2627-4555-ed29-2c4f038c8a34"
      },
      "outputs": [
        {
          "output_type": "stream",
          "name": "stdout",
          "text": [
            "3\n",
            "-1\n",
            "0\n",
            "7\n",
            "[-1, 0, 7]\n",
            "7\n"
          ]
        }
      ],
      "source": [
        "#3.Sum of positive elements.\n",
        "l1=[]\n",
        "n=int(input(\"\"))\n",
        "for i in range(n):\n",
        "  x=int(input())\n",
        "  l1.append(x)\n",
        "print(l1)\n",
        "sum=0\n",
        "for i in range(n):\n",
        "  if l1[i]>0:\n",
        "   sum=l1[i]+sum\n",
        "print(sum)"
      ]
    },
    {
      "cell_type": "code",
      "execution_count": null,
      "metadata": {
        "colab": {
          "base_uri": "https://localhost:8080/"
        },
        "id": "Ygr9l3RbwQJq",
        "outputId": "b6c1f3e8-3e25-4c46-bab0-f156b7679f6d"
      },
      "outputs": [
        {
          "output_type": "stream",
          "name": "stdout",
          "text": [
            "4\n",
            "2\n",
            "3\n",
            "4\n",
            "5\n",
            "[2, 3, 4, 5]\n",
            "[2, 4]\n"
          ]
        }
      ],
      "source": [
        "#4.create a new list y with alternate elements of given list x\n",
        "x=[]\n",
        "y=[]\n",
        "n=int(input(\"\"))\n",
        "for i in range(n):\n",
        "   m=int(input(\"\"))\n",
        "   x.append(m)\n",
        "print(x)\n",
        "for i in range(0,n,2):\n",
        "  y.append(x[i])\n",
        "print(y)"
      ]
    },
    {
      "cell_type": "code",
      "execution_count": null,
      "metadata": {
        "colab": {
          "base_uri": "https://localhost:8080/"
        },
        "id": "xGPHUYxRyY4v",
        "outputId": "c1175e7f-da41-41ae-850c-5f6a92cb1114"
      },
      "outputs": [
        {
          "name": "stdout",
          "output_type": "stream",
          "text": [
            "4\n",
            "6\n",
            "2\n",
            "1\n",
            "2\n",
            "[1, 2]\n",
            "[0.24, 0.48]\n"
          ]
        }
      ],
      "source": [
        "#5.given P, T and for range of intrest rates create a list of SI\n",
        "l1=[]\n",
        "P=int(input(\"\"))\n",
        "T=int(input(\"\"))\n",
        "rate=[]\n",
        "n=int(input())\n",
        "for i in range(n):\n",
        "  rate.append(int(input(\"\")))\n",
        "print(rate)\n",
        "for i in range(n):\n",
        "  SI=P*T*rate[i]/100\n",
        "  l1.append(SI)\n",
        "print(l1)"
      ]
    },
    {
      "cell_type": "code",
      "execution_count": null,
      "metadata": {
        "colab": {
          "base_uri": "https://localhost:8080/"
        },
        "id": "_wFIuGUNypBl",
        "outputId": "c97a393a-9f97-4b92-cb91-7ebf7f1b4a96"
      },
      "outputs": [
        {
          "name": "stdout",
          "output_type": "stream",
          "text": [
            "4\n",
            "2\n",
            "3\n",
            "4\n",
            "5\n",
            "[2, 4]\n"
          ]
        }
      ],
      "source": [
        "#6.create a list of even numbers in a given range\n",
        "l1=[]\n",
        "l2=[]\n",
        "n=int(input(\"\"))\n",
        "for i in range(n):\n",
        "  x=int(input())\n",
        "  l1.append(x)\n",
        "for j in l1:\n",
        "   if j%2==0:\n",
        "       l2.append(j)\n",
        "print(l2)"
      ]
    },
    {
      "cell_type": "code",
      "execution_count": null,
      "metadata": {
        "colab": {
          "base_uri": "https://localhost:8080/"
        },
        "id": "LnBXlCga4Aws",
        "outputId": "e33d026b-d8e7-403e-d2ae-d30d9f4109cf"
      },
      "outputs": [
        {
          "name": "stdout",
          "output_type": "stream",
          "text": [
            "4\n",
            "2\n",
            "3\n",
            "4\n",
            "1\n",
            "[2, 3, 4, 1]\n",
            "[12.566370614359172, 18.84955592153876, 25.132741228718345, 6.283185307179586]\n"
          ]
        }
      ],
      "source": [
        "#7.create list of areas of circle for a range of radius values\n",
        "import math\n",
        "l1=[]\n",
        "n=int(input(\"\"))\n",
        "for i in range(n):\n",
        "  x=int(input(\"\"))\n",
        "  l1.append(x)\n",
        "print(l1)\n",
        "l2=[]\n",
        "for i in range(n):\n",
        "  area=2*math.pi*l1[i]\n",
        "  l2.append(area)\n",
        "print(l2)\n"
      ]
    },
    {
      "cell_type": "code",
      "execution_count": null,
      "metadata": {
        "id": "H1fcwC1rFq5J"
      },
      "outputs": [],
      "source": [
        "#8.write function that return area & circumfrence. write another function that returnsa list\n"
      ]
    },
    {
      "cell_type": "code",
      "execution_count": null,
      "metadata": {
        "colab": {
          "base_uri": "https://localhost:8080/"
        },
        "id": "t63APzCF4MxJ",
        "outputId": "d8536036-e52f-4b8d-fd6e-3ad590b26cd1"
      },
      "outputs": [
        {
          "name": "stdout",
          "output_type": "stream",
          "text": [
            "3\n",
            "9\n",
            "[3, 5, 7]\n"
          ]
        }
      ],
      "source": [
        "#9.create a list of prime numbers between n1 & n2\n",
        "l1=[]\n",
        "n1=int(input(\"\"))\n",
        "n2=int(input(\"\"))\n",
        "for n in range(n1,n2):\n",
        "  if n>1:\n",
        "    for i in range(2,int(n/2)+1):\n",
        "      if n%i==0:\n",
        "        break\n",
        "    else:\n",
        "        l1.append(n)\n",
        "print(l1)"
      ]
    },
    {
      "cell_type": "code",
      "execution_count": null,
      "metadata": {
        "colab": {
          "base_uri": "https://localhost:8080/"
        },
        "id": "p_UYVdib4pLj",
        "outputId": "6aa4b0f6-f028-4ffd-9d15-72f01e2d68dd"
      },
      "outputs": [
        {
          "name": "stdout",
          "output_type": "stream",
          "text": [
            "30\n",
            "40\n",
            "[40, 38, 36, 34, 32, 30]\n"
          ]
        }
      ],
      "source": [
        "#10.create list of even numbers between n1 & n2 in reverse order\n",
        "l1=[]\n",
        "n1=int(input(\"\"))\n",
        "n2=int(input(\"\"))\n",
        "for i in range(n2,n1-1,-1):\n",
        "  if i%2==0:\n",
        "    l1.append(i)\n",
        "print(l1)"
      ]
    },
    {
      "cell_type": "code",
      "execution_count": null,
      "metadata": {
        "colab": {
          "base_uri": "https://localhost:8080/"
        },
        "id": "pkXSUoMNFoY2",
        "outputId": "97947766-c69c-4af2-e668-ba9d0bc5f31e"
      },
      "outputs": [
        {
          "name": "stdout",
          "output_type": "stream",
          "text": [
            "3\n",
            "23\n",
            "43\n",
            "56\n",
            "[23, 43, 56]\n",
            "[56, 43, 23]\n"
          ]
        }
      ],
      "source": [
        "#11.given list of numbers, create list of reverse numbers\n",
        "l1=[]\n",
        "n=int(input(\"\"))\n",
        "for i in range(n):\n",
        "  x=int(input(\"\"))\n",
        "  l1.append(x)\n",
        "print(l1)\n",
        "k=l1[::-1]\n",
        "print(k)"
      ]
    },
    {
      "cell_type": "code",
      "execution_count": null,
      "metadata": {
        "colab": {
          "base_uri": "https://localhost:8080/"
        },
        "id": "PWGtYIQD8Nkf",
        "outputId": "7c59c71a-f8d2-4134-8110-5dd0dde77f07"
      },
      "outputs": [
        {
          "name": "stdout",
          "output_type": "stream",
          "text": [
            "2\n",
            "divya\n",
            "theresa\n",
            "['divya', 'theresa']\n",
            "['theresa', 'divya']\n"
          ]
        }
      ],
      "source": [
        "#12.given list of names, create a lst of palindromes\n",
        "l1=[]\n",
        "n=int(input(\"\"))\n",
        "for i in range(n):\n",
        "  x=input(\"\")\n",
        "  l1.append(x)\n",
        "print(l1)\n",
        "k=l1[::-1]\n",
        "print(k)"
      ]
    },
    {
      "cell_type": "code",
      "execution_count": null,
      "metadata": {
        "id": "9Wc_fwQ18SfR"
      },
      "outputs": [],
      "source": [
        "#13.create list of perfect numbers in the range of n1 to n2\n",
        "l1=[]\n",
        "n1=int(input(\"\"))\n",
        "n2=int(input(\"\"))\n",
        "for i in range(n1,n2+1):\n",
        "  if n2%i==0:"
      ]
    },
    {
      "cell_type": "code",
      "execution_count": null,
      "metadata": {
        "colab": {
          "base_uri": "https://localhost:8080/"
        },
        "id": "27YUkXas8X2G",
        "outputId": "e7bcfff7-dddb-475d-fbb6-65c3062fb2f4"
      },
      "outputs": [
        {
          "name": "stdout",
          "output_type": "stream",
          "text": [
            "7\n",
            "[0, 1, 1, 2, 3, 5, 8]\n"
          ]
        }
      ],
      "source": [
        "#14.create a list of Fibnocci numbers upto N\n",
        "l1=[]\n",
        "n=int(input(\"\"))\n",
        "n1,n2=0,1\n",
        "for i in range(n):\n",
        "  l1.append(n1)\n",
        "  n3=n1+n2\n",
        "  n1=n2\n",
        "  n2=n3\n",
        "print(l1)"
      ]
    },
    {
      "cell_type": "code",
      "execution_count": null,
      "metadata": {
        "id": "X3kdKC7D8eYQ"
      },
      "outputs": [],
      "source": [
        "#15.create a list of numbers by adding two subsequent numbers\n"
      ]
    },
    {
      "cell_type": "code",
      "execution_count": null,
      "metadata": {
        "colab": {
          "base_uri": "https://localhost:8080/"
        },
        "id": "Sq1pfp5bDY67",
        "outputId": "2d64395f-295a-48e4-a263-bc3563e5fd1c"
      },
      "outputs": [
        {
          "name": "stdout",
          "output_type": "stream",
          "text": [
            "4\n",
            "5\n",
            "7\n",
            "4\n",
            "9\n",
            "7 9 "
          ]
        }
      ],
      "source": [
        "#16.take N values from user and create list of all values greater than 5\n",
        "l1=[]\n",
        "n=int(input(\"\"))\n",
        "for i in range(n):\n",
        "  x=int(input())\n",
        "  l1.append(x)\n",
        "for j in l1:\n",
        "   if j>5:\n",
        "    print(j,end=\" \")"
      ]
    },
    {
      "cell_type": "code",
      "execution_count": null,
      "metadata": {
        "colab": {
          "base_uri": "https://localhost:8080/"
        },
        "id": "oc7Ffa-1EMak",
        "outputId": "15d336b6-5433-420d-f68d-bdeb59bf9d45"
      },
      "outputs": [
        {
          "name": "stdout",
          "output_type": "stream",
          "text": [
            "4\n",
            "24\n",
            "45\n",
            "98\n",
            "65\n",
            "[98, 65]\n"
          ]
        }
      ],
      "source": [
        "#17..create a list of numbers taken from user and display those elements that are\n",
        "#greater than list average\n",
        "l1=[]\n",
        "l2=[]\n",
        "n=int(input())\n",
        "for i in range(n):\n",
        "  x=int(input())\n",
        "  l1.append(x)\n",
        "sum=0\n",
        "for i in range(n):\n",
        " sum=sum+l1[i]\n",
        "avg=sum/n\n",
        "for j in l1:\n",
        "   if j>avg:\n",
        "       l2.append(j)\n",
        "print(l2)"
      ]
    },
    {
      "cell_type": "code",
      "execution_count": null,
      "metadata": {
        "colab": {
          "base_uri": "https://localhost:8080/"
        },
        "id": "aORHXdaXHqFR",
        "outputId": "ae8e84d4-a4e3-4383-ed27-10f2a296b610"
      },
      "outputs": [
        {
          "name": "stdout",
          "output_type": "stream",
          "text": [
            "3\n",
            "divyaa\n",
            "cat\n",
            "monkey\n",
            "['divyaa', 'cat', 'monkey']\n",
            "divyaa\n",
            "monkey\n"
          ]
        }
      ],
      "source": [
        "#18..create list of string values and display those elements whose length is more than 5.\n",
        "l1=[]\n",
        "n=int(input(\"\"))\n",
        "for i in range(n):\n",
        "  x=input()\n",
        "  l1.append(x)\n",
        "print(l1)\n",
        "for i in l1:\n",
        "   if len(i)>5:\n",
        "     print(i)"
      ]
    },
    {
      "cell_type": "code",
      "execution_count": null,
      "metadata": {
        "colab": {
          "base_uri": "https://localhost:8080/"
        },
        "id": "A4AETftbNsna",
        "outputId": "0d48e750-bf3f-41f2-a2c0-47258795b878"
      },
      "outputs": [
        {
          "name": "stdout",
          "output_type": "stream",
          "text": [
            "3\n",
            "True\n",
            "true\n",
            "false\n",
            "['True', 'true', 'false']\n",
            "1\n"
          ]
        }
      ],
      "source": [
        "#19.create list of boolean and count number of True values\n",
        "l1=[]\n",
        "n=int(input(\"\"))\n",
        "for i in range(n):\n",
        "  x=input(\"\")\n",
        "  l1.append(x)\n",
        "print(l1)\n",
        "count=0\n",
        "for i in range(n):\n",
        "  if l1[i]=='True':\n",
        "    count=count+1\n",
        "print(count)"
      ]
    },
    {
      "cell_type": "code",
      "execution_count": null,
      "metadata": {
        "id": "3Lwalb_N8nhT"
      },
      "outputs": [],
      "source": [
        "#20.create list of integers and then create list complex numbers from the list\n",
        "l1=[]\n",
        "l2=[]\n",
        "n=int(input(\"\"))\n",
        "for i in range(n):\n",
        "  x=input(\"\")\n",
        "  l1.append(x)\n",
        "print(l1)\n",
        "for i in l1:\n",
        "  if type(i)==complex:\n",
        "    l2.append(i)\n",
        "print(l2)"
      ]
    },
    {
      "cell_type": "code",
      "execution_count": null,
      "metadata": {
        "id": "N1IUNQ-Q8yz5"
      },
      "outputs": [],
      "source": [
        "#21.list the roots of quadratic equation for sets of values\n"
      ]
    },
    {
      "cell_type": "code",
      "execution_count": null,
      "metadata": {
        "colab": {
          "base_uri": "https://localhost:8080/"
        },
        "id": "L83c-rLN83FB",
        "outputId": "f58978d2-aef6-41f3-caa5-e7d5058b1afe"
      },
      "outputs": [
        {
          "name": "stdout",
          "output_type": "stream",
          "text": [
            "6\n",
            "[0, 1, 1, 2, 3, 5]\n"
          ]
        }
      ],
      "source": [
        "#22.list of Fibnocci numbers upto Nth value\n",
        "l1=[]\n",
        "n=int(input(\"\"))\n",
        "n1,n2=0,1\n",
        "for i in range(n):\n",
        "  l1.append(n1)\n",
        "  n3=n1+n2\n",
        "  n1=n2\n",
        "  n2=n3\n",
        "print(l1)"
      ]
    },
    {
      "cell_type": "code",
      "execution_count": null,
      "metadata": {
        "id": "T3z9R-ll87Iy"
      },
      "outputs": [],
      "source": [
        "#23.create list of values that are greater than average in the given list. create input listusing comprehension\n"
      ]
    },
    {
      "cell_type": "code",
      "execution_count": null,
      "metadata": {
        "colab": {
          "base_uri": "https://localhost:8080/"
        },
        "id": "1NKo_8Ir9AXx",
        "outputId": "e6e3ca7f-59f1-4780-cdc4-cbee00512d78"
      },
      "outputs": [
        {
          "name": "stdout",
          "output_type": "stream",
          "text": [
            "3\n",
            "23\n",
            "43\n",
            "54\n",
            "[23, 43, 54]\n",
            "[54, 43, 23]\n"
          ]
        }
      ],
      "source": [
        "#24.generate list of reverse numbers of a given list\n",
        "l1=[]\n",
        "n=int(input(\"\"))\n",
        "for i in range(n):\n",
        "  x=int(input(\"\"))\n",
        "  l1.append(x)\n",
        "print(l1)\n",
        "k=l1[::-1]\n",
        "print(k)"
      ]
    },
    {
      "cell_type": "markdown",
      "metadata": {
        "id": "KPAno7tYQ7e9"
      },
      "source": [
        "TUPLES:"
      ]
    },
    {
      "cell_type": "code",
      "execution_count": null,
      "metadata": {
        "colab": {
          "base_uri": "https://localhost:8080/"
        },
        "id": "hYmxcnC3PcDd",
        "outputId": "b217f15a-e188-4e8b-e142-f51acf5f1e39"
      },
      "outputs": [
        {
          "name": "stdout",
          "output_type": "stream",
          "text": [
            "3\n",
            "-1\n",
            "0\n",
            "5\n",
            "[-1, 0, 5]\n",
            "(-1, 0, 5)\n",
            "(0, 5)\n"
          ]
        }
      ],
      "source": [
        "#1.take a tuple and count number of positive elements\n",
        "l1=[]\n",
        "n=int(input(\"\"))\n",
        "for i in range(n):\n",
        "  x=int(input(\"\"))\n",
        "  l1.append(x)\n",
        "print(l1)\n",
        "T=tuple(l1)\n",
        "print(T)\n",
        "count=0\n",
        "l2=[]\n",
        "for i in range(n):\n",
        "  if l1[i]>=0:\n",
        "    count=count+1\n",
        "    l2.append(l1[i])\n",
        "print(tuple(l2))"
      ]
    },
    {
      "cell_type": "code",
      "execution_count": null,
      "metadata": {
        "colab": {
          "base_uri": "https://localhost:8080/"
        },
        "id": "7S3ThnZxYZw3",
        "outputId": "6917a85c-565d-4aff-dd62-6fd8b07a7096"
      },
      "outputs": [
        {
          "name": "stdout",
          "output_type": "stream",
          "text": [
            "3+7j\n",
            "7\n",
            "4.5\n",
            "hello\n",
            "((3+7j), 7, 4.5, 'hello')\n",
            "1 \t 1 \t 1 \t 1 \t\n"
          ]
        }
      ],
      "source": [
        "#2. take a mixed tuple and count number of complex , int, float, string elements\n",
        "l1=[]\n",
        "n=1\n",
        "for i in range(n):\n",
        "  x=complex(input(\"\"))\n",
        "  y=int(input(\"\"))\n",
        "  z=float(input(\"\"))\n",
        "  a=input(\"\")\n",
        "  l1.extend([x,y,z,a])\n",
        "T=tuple(l1)\n",
        "print(T)\n",
        "v=0\n",
        "d=0\n",
        "c=0\n",
        "f=0\n",
        "for i in T:\n",
        "  if type(i)==complex:\n",
        "    v=v+1\n",
        "  elif type(i)==int:\n",
        "    d=d+1\n",
        "  elif type(i)==float:\n",
        "    c=c+1\n",
        "  elif type(i)==str:\n",
        "    f=f+1\n",
        "print(v,\"\\t\",d,\"\\t\",c,\"\\t\",f,\"\\t\")"
      ]
    },
    {
      "cell_type": "code",
      "execution_count": null,
      "metadata": {
        "id": "N-pco9BkZl-P"
      },
      "outputs": [],
      "source": [
        "#3. take a tuple and count number of numeric elements\n",
        "l1=[]\n",
        "n=1\n",
        "for i in range(n):\n",
        "  x=complex(input(\"\"))\n",
        "  y=int(input(\"\"))\n",
        "  z=float(input(\"\"))\n",
        "  a=input(\"\")\n",
        "  l1.extend([x,y,z,a])\n",
        "T=tuple(l1)\n",
        "print(T)\n",
        "v=0\n",
        "for i in T:\n",
        "  if type(i)==complex or type(i)==int or type(i)==float:\n",
        "    v=v+1\n",
        "    f=f+1\n",
        "print(v)"
      ]
    },
    {
      "cell_type": "code",
      "execution_count": null,
      "metadata": {
        "colab": {
          "base_uri": "https://localhost:8080/"
        },
        "id": "AmikO7TafiZ_",
        "outputId": "713c4769-4722-438b-938e-f8f6b4fd1dfe"
      },
      "outputs": [
        {
          "name": "stdout",
          "output_type": "stream",
          "text": [
            "(2, 3, 5, 7, 11, 13, 17, 19)\n"
          ]
        }
      ],
      "source": [
        "#4.create a tuple of primes upto 20\n",
        "l1=[]\n",
        "n1=20\n",
        "for n in range(n1):\n",
        "  if n>1:\n",
        "    for i in range(2,int(n/2)+1):\n",
        "      if n%i==0:\n",
        "        break\n",
        "    else:\n",
        "        l1.append(n)\n",
        "T=tuple(l1)\n",
        "print(T)"
      ]
    },
    {
      "cell_type": "code",
      "execution_count": null,
      "metadata": {
        "colab": {
          "base_uri": "https://localhost:8080/"
        },
        "id": "od2nDoYKgRUL",
        "outputId": "01d63e64-561f-440a-9b8a-2e630156efc2"
      },
      "outputs": [
        {
          "name": "stdout",
          "output_type": "stream",
          "text": [
            "3\n",
            "divyaa\n",
            "monkey\n",
            "cat\n",
            "('divyaa', 'monkey', 'cat')\n",
            "divyaa\n",
            "monkey\n"
          ]
        }
      ],
      "source": [
        "#5.take tuple and display those string elements that are more than 5 characters long\n",
        "l1=[]\n",
        "n=int(input(\"\"))\n",
        "for i in range(n):\n",
        "  x=input()\n",
        "  l1.append(x)\n",
        "print(tuple(l1))\n",
        "for i in l1:\n",
        "   if len(i)>5:\n",
        "     print(i)"
      ]
    },
    {
      "cell_type": "code",
      "execution_count": null,
      "metadata": {
        "colab": {
          "base_uri": "https://localhost:8080/"
        },
        "id": "Av33K07EiTG4",
        "outputId": "f5911fba-b3da-45a0-a6e5-78f4dc2a0a47"
      },
      "outputs": [
        {
          "name": "stdout",
          "output_type": "stream",
          "text": [
            "4\n",
            "65\n",
            "67\n",
            "45\n",
            "09\n",
            "(65, 67, 45, 9)\n",
            "186\n",
            "46.5\n",
            "2171.0\n",
            "23.296995514443488\n"
          ]
        }
      ],
      "source": [
        "#6.find the average and SD of tuple elements\n",
        "import math\n",
        "l1=[]\n",
        "n=int(input(\"\"))\n",
        "for i in range(n):\n",
        "  x=int(input())\n",
        "  l1.append(x)\n",
        "T=tuple(l1)\n",
        "print(T)\n",
        "sum=0\n",
        "for i in range(n):\n",
        "  sum=sum+T[i]\n",
        "print(sum)\n",
        "avg=sum/n\n",
        "print(avg)\n",
        "sum1=0\n",
        "for i in range(n):\n",
        "   sum1=sum1+(T[i]-avg)**2\n",
        "print(sum1)\n",
        "SD=math.sqrt((1/n)*sum1)\n",
        "print(SD)"
      ]
    },
    {
      "cell_type": "code",
      "execution_count": null,
      "metadata": {
        "colab": {
          "base_uri": "https://localhost:8080/"
        },
        "id": "KWVO-PsmzIfD",
        "outputId": "07e94e3e-db23-4129-aedf-1409dc915135"
      },
      "outputs": [
        {
          "name": "stdout",
          "output_type": "stream",
          "text": [
            "4\n",
            "2\n",
            "3\n",
            "4\n",
            "6\n",
            "(2, 3, 4, 6)\n",
            "(3, 6)\n"
          ]
        }
      ],
      "source": [
        "#7. take a tuple and create one more tuple with elements of multiples of 3 of the firsttuple\n",
        "l1=[]\n",
        "l2=[]\n",
        "n=int(input(\"\"))\n",
        "for i in range(n):\n",
        "  x=int(input(\"\"))\n",
        "  l1.append(x)\n",
        "print(tuple(l1))\n",
        "for i in range(n):\n",
        "  if(l1[i]%3==0):\n",
        "    l2.append(l1[i])\n",
        "print(tuple(l2))"
      ]
    },
    {
      "cell_type": "code",
      "execution_count": null,
      "metadata": {
        "colab": {
          "base_uri": "https://localhost:8080/"
        },
        "id": "_63huvvp0JM3",
        "outputId": "25446063-8d43-4103-ce7f-6b978a01d54b"
      },
      "outputs": [
        {
          "name": "stdout",
          "output_type": "stream",
          "text": [
            "(1, 2, 3, 4, 5, 6, 7, 8, 9, 10, 11, 12, 13, 14, 15, 16, 17, 18, 19, 20)\n",
            "(5, 6, 7, 8, 9, 10, 11, 12, 13, 14, 15, 16, 17, 18, 19, 20, 21, 22, 23, 24, 25, 26, 27, 28, 29, 30, 31, 32, 33, 34, 35, 36, 37, 38, 39, 40, 41, 42, 43, 44, 45, 46, 47, 48, 49, 50, 51, 52, 53, 54, 55, 56, 57, 58, 59, 60, 61, 62, 63, 64, 65, 66, 67, 68, 69, 70)\n",
            "(100, 101, 102, 103, 104, 105, 106, 107, 108, 109, 110, 111, 112, 113, 114, 115, 116, 117, 118, 119, 120)\n",
            "(1, 2, 3, 4, 5, 6, 7, 8, 9, 10, 11, 12, 13, 14, 15, 16, 17, 18, 19, 20, 21, 22, 23, 24, 25, 26, 27, 28, 29, 30, 31, 32, 33, 34, 35, 36, 37, 38, 39, 40, 41, 42, 43, 44, 45, 46, 47, 48, 49, 50, 51, 52, 53, 54, 55, 56, 57, 58, 59, 60, 61, 62, 63, 64, 65, 66, 67, 68, 69, 70, 100, 101, 102, 103, 104, 105, 106, 107, 108, 109, 110, 111, 112, 113, 114, 115, 116, 117, 118, 119, 120)\n"
          ]
        }
      ],
      "source": [
        "#8. create 3 tuples with elements ranges of 1 to 20, 5 to 70 & 100 to 120. Create newtuple having all the elements of the 3 tuples created\n",
        "l1=[]\n",
        "l2=[]\n",
        "l3=[]\n",
        "l=[]\n",
        "last=[]\n",
        "for i in range(1,21):\n",
        "  l1.append(i)\n",
        "print(tuple(l1))\n",
        "for i in range(5,71):\n",
        "  l2.append(i)\n",
        "print(tuple(l2))\n",
        "for i in range(100,121):\n",
        "  l3.append(i)\n",
        "print(tuple(l3))\n",
        "for i in range(len(l1)):\n",
        "  l.append(l1[i])\n",
        "for i in range(len(l2)):\n",
        "  l.append(l2[i])\n",
        "for i in range(len(l3)):\n",
        "  l.append(l3[i])\n",
        "for i in range(len(l)):\n",
        "  if (l[i] not in last):\n",
        "    last.append(l[i])\n",
        "print(tuple(last))"
      ]
    },
    {
      "cell_type": "code",
      "execution_count": null,
      "metadata": {
        "colab": {
          "base_uri": "https://localhost:8080/"
        },
        "id": "mNDoJPQO2tB2",
        "outputId": "b8525a26-40af-41ac-c656-911ffb9010b1"
      },
      "outputs": [
        {
          "name": "stdout",
          "output_type": "stream",
          "text": [
            "hello\n",
            "3\n",
            "divyaa\n",
            "monkey\n",
            "donkey\n",
            "['divyaa', 'monkey', 'donkey']\n",
            "['divyaahello', 'donkeyhello']\n"
          ]
        }
      ],
      "source": [
        "#9. take a list & string from user. Create a new tuple having alternate elements afterpairing corresponding elements of list & string tuples\n",
        "l1=[]\n",
        "l2=[]\n",
        "m=input(\"\")\n",
        "n=int(input(\"\"))\n",
        "for i in range(n):\n",
        "  l1.append(input(\"\"))\n",
        "print(l1)\n",
        "for i in range(0,n,2):\n",
        "  l2.append(l1[i]+m)\n",
        "print(l2)"
      ]
    },
    {
      "cell_type": "code",
      "execution_count": null,
      "metadata": {
        "id": "Ij6JZvvasMCX"
      },
      "outputs": [],
      "source": [
        "#10.take names from user and associate each name with integer starting with 5\n",
        "import math\n",
        "l1=[]\n",
        "n=int(input(\"\"))\n",
        "for i in range(n):\n",
        "  x=input(\"\")\n",
        "  l1.append(x)\n",
        "  T=tuple(l1)\n",
        "  T+=(T,i)\n",
        "print(T)\n"
      ]
    },
    {
      "cell_type": "code",
      "execution_count": null,
      "metadata": {
        "colab": {
          "base_uri": "https://localhost:8080/"
        },
        "id": "DIdsM_WkkYCR",
        "outputId": "66957087-b106-4c39-b5c5-819a392fa6ef"
      },
      "outputs": [
        {
          "name": "stdout",
          "output_type": "stream",
          "text": [
            "3\n",
            "True\n",
            "false\n",
            "TRUE\n",
            "('True', 'false', 'TRUE')\n",
            "1\n"
          ]
        }
      ],
      "source": [
        "#11.take boolean tuple and count number of True values\n",
        "l1=[]\n",
        "n=int(input(\"\"))\n",
        "for i in range(n):\n",
        "  x=input(\"\")\n",
        "  l1.append(x)\n",
        "print(tuple(l1))\n",
        "count=0\n",
        "for i in range(n):\n",
        "  if l1[i]=='True':\n",
        "    count=count+1\n",
        "print(count)"
      ]
    },
    {
      "cell_type": "code",
      "execution_count": null,
      "metadata": {
        "colab": {
          "base_uri": "https://localhost:8080/"
        },
        "id": "rnY8w-UEksKV",
        "outputId": "73f546f9-e474-47f5-9044-f1fb10eedd8b"
      },
      "outputs": [
        {
          "name": "stdout",
          "output_type": "stream",
          "text": [
            "5\n",
            "10.5\n",
            "6.4\n",
            "3\n",
            "11\n",
            "12.9\n",
            "(10.5, 6.4, 3.0, 11.0, 12.9)\n",
            "10.5 11.0 12.9 "
          ]
        }
      ],
      "source": [
        "#12.take float tuple and count the elements greater tha 10\n",
        "l1=[]\n",
        "n=int(input(\"\"))\n",
        "for i in range(n):\n",
        "  x=float(input())\n",
        "  l1.append(x)\n",
        "print(tuple(l1))\n",
        "for j in l1:\n",
        "   if j>10:\n",
        "    print(j,end=\" \")"
      ]
    },
    {
      "cell_type": "code",
      "execution_count": null,
      "metadata": {
        "colab": {
          "base_uri": "https://localhost:8080/"
        },
        "id": "j3O-1L1pql-D",
        "outputId": "d94aed25-a0a4-4446-de13-cb99a24605a3"
      },
      "outputs": [
        {
          "name": "stdout",
          "output_type": "stream",
          "text": [
            "4\n",
            "12+34j\n",
            "13-78j\n",
            "123+6j\n",
            "34-89j\n",
            "((12+34j), (13-78j), (123+6j), (34-89j))\n",
            "((12+34j), (13-78j), (123+6j), (34-89j))\n",
            "2\n"
          ]
        }
      ],
      "source": [
        "#13.take complex tuple and count number of elements with negative imaginary part\n",
        "l1=[]\n",
        "n=int(input(\"\"))\n",
        "for i in range(n):\n",
        "  x=complex(input())\n",
        "  l1.append(x)\n",
        "T=tuple(l1)\n",
        "print(T)\n",
        "count=0\n",
        "for i in T:\n",
        "  a=i.imag\n",
        "  if a<0:\n",
        "    count+=1\n",
        "print(T)\n",
        "print(count)"
      ]
    },
    {
      "cell_type": "code",
      "execution_count": null,
      "metadata": {
        "colab": {
          "base_uri": "https://localhost:8080/"
        },
        "id": "ve3yvw0lo44q",
        "outputId": "9aa47a68-27d7-4b96-b342-cbda1af28240"
      },
      "outputs": [
        {
          "name": "stdout",
          "output_type": "stream",
          "text": [
            "5\n",
            "54+23j\n",
            "679+213j\n",
            "123432+32j\n",
            "6712+37j\n",
            "346+234j\n",
            "((54+23j), (679+213j), (123432+32j), (6712+37j), (346+234j))\n",
            "((54+23j), (679+213j), (123432+32j), (6712+37j), (346+234j))\n",
            "131223.0\n"
          ]
        }
      ],
      "source": [
        "#14.take complex tuple and sum up only real parts\n",
        "l1=[]\n",
        "n=int(input(\"\"))\n",
        "for i in range(n):\n",
        "  x=complex(input())\n",
        "  l1.append(x)\n",
        "T=tuple(l1)\n",
        "print(T)\n",
        "sum=0\n",
        "for i in T:\n",
        "  a=i.real\n",
        "  sum+=a\n",
        "print(T)\n",
        "print(sum)"
      ]
    },
    {
      "cell_type": "markdown",
      "metadata": {
        "id": "pZYFCNHvDzsG"
      },
      "source": []
    },
    {
      "cell_type": "code",
      "execution_count": null,
      "metadata": {
        "colab": {
          "base_uri": "https://localhost:8080/"
        },
        "id": "W_W_J897lxQS",
        "outputId": "a0a56e24-d9ac-435b-8755-b81d89a2a503"
      },
      "outputs": [
        {
          "name": "stdout",
          "output_type": "stream",
          "text": [
            "4\n",
            "4\n",
            "5\n",
            "6\n",
            "7\n",
            "(4, 5, 6, 7)\n",
            "3\n",
            "8\n",
            "9\n",
            "0\n",
            "(4, 5, 6, 7, 8, 9, 0)\n"
          ]
        }
      ],
      "source": [
        "#15.take a tuple and create a new tuple by adding some more elements\n",
        "l1=[]\n",
        "n=int(input(\"\"))\n",
        "for i in range(n):\n",
        "  x=int(input())\n",
        "  l1.append(x)\n",
        "print(tuple(l1))\n",
        "m=int(input())\n",
        "for i in range(m):\n",
        "  y=int(input(\"\"))\n",
        "  l1.append(y)\n",
        "print(tuple(l1))"
      ]
    },
    {
      "cell_type": "code",
      "execution_count": null,
      "metadata": {
        "colab": {
          "background_save": true,
          "base_uri": "https://localhost:8080/"
        },
        "id": "JR-Rw9SqnigW",
        "outputId": "b0f8b123-df75-4127-ec19-d5cec2edbbc0"
      },
      "outputs": [
        {
          "name": "stdout",
          "output_type": "stream",
          "text": [
            "('divya', 'theresa')\n",
            "theresa\n"
          ]
        }
      ],
      "source": [
        "#16.take a tuple and display max of string elements\n",
        "l1=[]\n",
        "n=int(input(\"\"))\n",
        "for i in range(n):\n",
        "  x=input()\n",
        "  l1.append(x)\n",
        "T=tuple(l1)\n",
        "print(len(T))\n",
        "print(max(T))"
      ]
    },
    {
      "cell_type": "markdown",
      "metadata": {
        "id": "MRtgIpZgAivb"
      },
      "source": [
        "Exercise:"
      ]
    },
    {
      "cell_type": "code",
      "execution_count": null,
      "metadata": {
        "colab": {
          "base_uri": "https://localhost:8080/"
        },
        "id": "pshzxt12AfpH",
        "outputId": "ff27c14f-3348-495b-966f-b12f5aafba50"
      },
      "outputs": [
        {
          "name": "stdout",
          "output_type": "stream",
          "text": [
            "5\n",
            "768\n",
            "456\n",
            "789\n",
            "34\n",
            "56\n",
            "(768, 456, 789, 34, 56)\n"
          ]
        }
      ],
      "source": [
        "#Creat a tuple object by taking input the user.\n",
        "l1=[]\n",
        "n=int(input(\"\"))\n",
        "for i in range(n):\n",
        "  x=int(input())\n",
        "  l1.append(x)\n",
        "T=tuple(l1)\n",
        "print(T)"
      ]
    },
    {
      "cell_type": "code",
      "execution_count": null,
      "metadata": {
        "id": "oHZnFv6JBPm_"
      },
      "outputs": [],
      "source": [
        "#2. Accept the name of the weekday from the user and display the number of the day of theweek. Exit when an invalid day name is given as input. Assume 0 for Sunday.\n"
      ]
    },
    {
      "cell_type": "code",
      "execution_count": null,
      "metadata": {
        "colab": {
          "base_uri": "https://localhost:8080/"
        },
        "id": "tSqkEQqTCFZd",
        "outputId": "4742bf23-6216-4488-88ec-3ab36f43d9ca"
      },
      "outputs": [
        {
          "name": "stdout",
          "output_type": "stream",
          "text": [
            "4\n",
            "54\n",
            "78\n",
            "43\n",
            "89\n",
            "(54, 78, 43, 89)\n",
            "45\n",
            "98\n",
            "67\n",
            "56\n",
            "98\n",
            "(98, 67, 56, 98)\n",
            "[152, 145, 99, 187]\n"
          ]
        }
      ],
      "source": [
        "#3. Given two tuple objects, create a new tuple by adding the corresponding values of the inputtuples.\n",
        "l1=[]\n",
        "l2=[]\n",
        "n=int(input(\"\"))\n",
        "for i in range(n):\n",
        "  x=int(input())\n",
        "  l1.append(x)\n",
        "T=tuple(l1)\n",
        "print(T)\n",
        "for i in range(n):\n",
        "  y=int(input())\n",
        "  l2.append(y)\n",
        "T1=tuple(l2)\n",
        "print(T1)\n",
        "l3=[]\n",
        "for i in range(n):\n",
        "  l3.append(l1[i]+l2[i])\n",
        "print(l3)"
      ]
    },
    {
      "cell_type": "code",
      "execution_count": null,
      "metadata": {
        "colab": {
          "base_uri": "https://localhost:8080/"
        },
        "id": "yLYjh6PRDCEZ",
        "outputId": "bca579f1-e52e-4a23-daf9-6fc6e0b89105"
      },
      "outputs": [
        {
          "name": "stdout",
          "output_type": "stream",
          "text": [
            "4\n",
            "1\n",
            "2\n",
            "2\n",
            "3\n",
            "(1, 2, 2, 3)\n",
            "(1, 2, 2, 3)\n",
            "(1, 3)\n"
          ]
        }
      ],
      "source": [
        "#4.Generate a new tuple by removing by duplicate elements of the input tuple.\n",
        "l1=[]\n",
        "n=int(input(\"\"))\n",
        "for i in range(n):\n",
        "  x=int(input())\n",
        "  l1.append(x)\n",
        "T=tuple(l1)\n",
        "print(T)\n",
        "l2=[]\n",
        "for i in l1:\n",
        "  if l1.count(i)==1:\n",
        "    l2.append(i)\n",
        "print(tuple(l1))\n",
        "print(tuple(l2))"
      ]
    },
    {
      "cell_type": "code",
      "execution_count": null,
      "metadata": {
        "id": "3-bPw8vnGcnb"
      },
      "outputs": [],
      "source": [
        "#5.take input cpg of students separated by space. Write a user defined function to count thenumber of students who got more than 7 cgp.\n",
        "n=float(input(\"\"))\n",
        "l1=tuple(n.split())\n",
        "l2=()\n",
        "print(l1)\n",
        "for i in l1:\n",
        "  if i>=7:\n",
        "    l2=l2+(i)\n",
        "print(l2)"
      ]
    },
    {
      "cell_type": "code",
      "source": [
        "l=[]\n",
        "n=int(input(\"\"))\n",
        "\n"
      ],
      "metadata": {
        "id": "noek-IPh-pi9"
      },
      "execution_count": null,
      "outputs": []
    }
  ],
  "metadata": {
    "colab": {
      "provenance": [],
      "authorship_tag": "ABX9TyMRBuUihlGuX1uymxIYLj5j",
      "include_colab_link": true
    },
    "kernelspec": {
      "display_name": "Python 3",
      "name": "python3"
    },
    "language_info": {
      "name": "python"
    }
  },
  "nbformat": 4,
  "nbformat_minor": 0
}