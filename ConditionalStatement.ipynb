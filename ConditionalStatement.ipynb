{
  "nbformat": 4,
  "nbformat_minor": 0,
  "metadata": {
    "colab": {
      "provenance": [],
      "include_colab_link": true
    },
    "kernelspec": {
      "name": "python3",
      "display_name": "Python 3"
    },
    "language_info": {
      "name": "python"
    }
  },
  "cells": [
    {
      "cell_type": "markdown",
      "metadata": {
        "id": "view-in-github",
        "colab_type": "text"
      },
      "source": [
        "<a href=\"https://colab.research.google.com/github/DivyaTheresa/Python/blob/main/ConditionalStatement.ipynb\" target=\"_parent\"><img src=\"https://colab.research.google.com/assets/colab-badge.svg\" alt=\"Open In Colab\"/></a>"
      ]
    },
    {
      "cell_type": "markdown",
      "source": [
        "## Conditional Statements\n",
        "In a program, as per the requriement of the problem we have to control the flow of execution and we have to desin the program in such a way that:\n",
        "*   A specific set of statements are executed only if the given condition is satisfied.\n",
        "*   An other set of statements when it’s not satisfied.\n",
        "\n",
        "**These conditional statements are also known as decision-making statements.**"
      ],
      "metadata": {
        "id": "IF087ohyeLri"
      }
    },
    {
      "cell_type": "markdown",
      "source": [
        "Following are the decision making statements:\n",
        "\n",
        "\n",
        "*   if statements\n",
        "*   if-else statements\n",
        "*   elif statements\n",
        "*   Nested if and if-else statements\n",
        "*   elif ladder"
      ],
      "metadata": {
        "id": "iAuaVDLKftoV"
      }
    },
    {
      "cell_type": "markdown",
      "source": [
        "## if statement: (one-way selection)\n",
        "It is one of the most commonly used conditional statements.\n",
        "It checks if a given condition is true or not.If it is true, then the set of code present inside the ***” if block”*** will be executed.\n",
        "\n",
        "```\n",
        "if ( CONDITION):\n",
        "     if Block of code\n",
        "\n",
        "```\n",
        "The CONDITION will be evaluated to a ***Boolean expression (true or false)***\n"
      ],
      "metadata": {
        "id": "_c-rcK23n3hi"
      }
    },
    {
      "cell_type": "code",
      "execution_count": null,
      "metadata": {
        "colab": {
          "base_uri": "https://localhost:8080/"
        },
        "id": "rXAXE-2AeIRY",
        "outputId": "c934035e-ae92-487d-b4f3-54e29a84a707"
      },
      "outputs": [
        {
          "output_type": "stream",
          "name": "stdout",
          "text": [
            "The age is greater than 18\n",
            "------------------------------\n"
          ]
        }
      ],
      "source": [
        "age = 20\n",
        "if age > 18:\n",
        "  print('The age is greater than 18')\n",
        "\n",
        "print('------------------------------')"
      ]
    },
    {
      "cell_type": "code",
      "source": [
        "age = 15\n",
        "if age > 18:\n",
        "  print('The age is greater than 18')\n",
        "\n",
        "print('------------------------------')"
      ],
      "metadata": {
        "colab": {
          "base_uri": "https://localhost:8080/"
        },
        "id": "cIryzqlBpLAb",
        "outputId": "ea1b513d-b77f-4494-d9bd-cd002603f35a"
      },
      "execution_count": null,
      "outputs": [
        {
          "output_type": "stream",
          "name": "stdout",
          "text": [
            "------------------------------\n"
          ]
        }
      ]
    },
    {
      "cell_type": "markdown",
      "source": [
        "***The disadvantage of the simple if statement is that it doesnt know what to do if the condition is false***"
      ],
      "metadata": {
        "id": "ZT9RASEPqmtq"
      }
    },
    {
      "cell_type": "markdown",
      "source": [
        "## if-else statement:(two-way selection)\n",
        "This statement is used when we have decide between two different set of instructions to execute.\n",
        "It checks if a given condition is true or not.If it is true, then the set of code present inside the ***” if block”*** will be executed otherwise ***else  block*** .\n",
        "\n",
        "```\n",
        "if ( CONDITION):\n",
        "     if Block of code\n",
        "else:\n",
        "     else Block of code\n",
        "```\n",
        "The CONDITION will be evaluated to a ***Boolean expression (true or false)***\n"
      ],
      "metadata": {
        "id": "NYEAnl2JpvCE"
      }
    },
    {
      "cell_type": "code",
      "source": [
        "age = 20\n",
        "if age > 18:\n",
        "  print('The age is greater than 18')\n",
        "else:\n",
        "  print('The age is less than 18')\n",
        "\n",
        "print('------------------------------')"
      ],
      "metadata": {
        "colab": {
          "base_uri": "https://localhost:8080/"
        },
        "id": "FSb6ynAeq8Jr",
        "outputId": "81ae9859-8302-4525-c39e-ab34a7ec7c54"
      },
      "execution_count": null,
      "outputs": [
        {
          "output_type": "stream",
          "name": "stdout",
          "text": [
            "The age is greater than 18\n",
            "------------------------------\n"
          ]
        }
      ]
    },
    {
      "cell_type": "code",
      "source": [
        "age = 15\n",
        "if age > 18:\n",
        "  print('The age is greater than 18')\n",
        "else:\n",
        "  print('The age is less than 18')\n",
        "\n",
        "print('------------------------------')"
      ],
      "metadata": {
        "colab": {
          "base_uri": "https://localhost:8080/"
        },
        "id": "9gv4UmQNrIIM",
        "outputId": "6c5f58d0-c23b-4c8c-bfcd-16371bc3c5cf"
      },
      "execution_count": null,
      "outputs": [
        {
          "output_type": "stream",
          "name": "stdout",
          "text": [
            "The age is less than 18\n",
            "------------------------------\n"
          ]
        }
      ]
    },
    {
      "cell_type": "markdown",
      "source": [
        "## ***elif statements***\n",
        " To check more than two conditions (multiple): *“elif”*\n",
        "\n",
        "This statement is similar to an ***“if-else”*** statement and the only difference is that in ***“else”*** we will not check the condition but in ***“elif”*** we will check the condition.\n",
        "\n",
        "“elif” statements evaluate multiple conditions, unlike if-else statements.\n",
        "\n",
        "\n",
        "\n",
        "```\n",
        "if (condition1):\n",
        "            # if condition1 is true\n",
        "elif (condition2):\n",
        "            # if condition1 is false and condition2 is true\n",
        "else:\n",
        "       #condition1 and condition2 is false\n",
        "```\n",
        "\n"
      ],
      "metadata": {
        "id": "weZ_405RrqKK"
      }
    },
    {
      "cell_type": "code",
      "source": [
        "num = -10\n",
        "if(num>0):\n",
        "\n",
        "  print('Number is greater than Zero')\n",
        "\n",
        "elif(num == 0):\n",
        "\n",
        "  print(\"Number is equal to Zero\")\n",
        "\n",
        "else:\n",
        "  print('Number is less than Zero')\n"
      ],
      "metadata": {
        "colab": {
          "base_uri": "https://localhost:8080/"
        },
        "id": "3WyFVKHsspe_",
        "outputId": "cafed2e4-f4d9-4d51-b3a9-997b491c045e"
      },
      "execution_count": null,
      "outputs": [
        {
          "output_type": "stream",
          "name": "stdout",
          "text": [
            "Number is less than Zero\n"
          ]
        }
      ]
    },
    {
      "cell_type": "markdown",
      "source": [
        "## Nested “if-else” statements:\n",
        "An “if” statement or “if-else” statement is present inside another if or if-else block.\n",
        "This will help us to check multiple conditions in a given program.\n",
        "\n",
        "An “***if”*** ***statement*** or “***if-else”*** ***statement*** is present inside another ***“if” statement*** which is present inside another ***“if” statements*** or “***if-else”*** ***statement*** and so on."
      ],
      "metadata": {
        "id": "bq201s10UXFD"
      }
    },
    {
      "cell_type": "markdown",
      "source": [
        "## Nested if statement\n",
        "\n",
        "```\n",
        "if(condition):\n",
        "           #Outer ***if statement***\n",
        "\n",
        "           if(condition):\n",
        "                    #inner ***if statement***\n",
        "                    \n",
        "           #end of nested if\n",
        "# end of if\n",
        "```\n",
        "\n"
      ],
      "metadata": {
        "id": "gzA2qja9WRWe"
      }
    },
    {
      "cell_type": "markdown",
      "source": [
        "## Nested ***if-else Statement***\n",
        "\n",
        "```\n",
        "if(condition):\n",
        "           #Outer ***if statement***\n",
        "           #Instructions to execute if condition is true\n",
        "           \n",
        "           if(condition):\n",
        "                    #inner if block\n",
        "           #end of nested if\n",
        "           else:\n",
        "                    #inner else block\n",
        "           #end of else\n",
        "\n",
        "#end of if\n",
        "else:\n",
        "           #Outer else block\n",
        "           \n",
        "           if(condition):\n",
        "                    #inner if block\n",
        "           #end of nested if\n",
        "           else:\n",
        "                    #inner else block\n",
        "           #end of else\n",
        "#end of else\n",
        "```\n",
        "\n"
      ],
      "metadata": {
        "id": "toc_lxx7VUce"
      }
    },
    {
      "cell_type": "markdown",
      "source": [
        "## elif ladder\n",
        "As the name itself suggests a when we have multiple conditions to check then ***ladder of*** ***“elif”*** statements or ***“elif” statements*** ***are structured in the form of a ladder. ***\n",
        "\n",
        "This statement is used to test multiple expressions.\n",
        "\n",
        "Syntax:\n",
        "\n",
        "\n",
        "```\n",
        "\n",
        "if (condition1):\n",
        "            #set of instructions for condition1\n",
        "elif (condition2):\n",
        "             #set of instructions for condition2\n",
        "elif (condition3):\n",
        "             #set of instructions for conditio3\n",
        "elif (condition4):\n",
        "             #set of instructions for condition4\n",
        "else:\n",
        "       #set of instructions if all the aboves are false\n",
        "\n",
        "#end of elif ladder\n",
        "```\n",
        "\n",
        "\n"
      ],
      "metadata": {
        "id": "P3jCrYHfYNHI"
      }
    },
    {
      "cell_type": "markdown",
      "source": [
        "## short hand if-statement\n",
        "\n",
        "\n",
        "```\n",
        "if CONDITION: set of instruction\n",
        "```\n",
        "\n"
      ],
      "metadata": {
        "id": "pIwM7FaFb2xJ"
      }
    },
    {
      "cell_type": "code",
      "source": [
        "a = 7\n",
        "b = 5\n",
        "if a > b : print('{} is greater than {}'.format(a,b))"
      ],
      "metadata": {
        "id": "FNyn3mm6UWKZ",
        "colab": {
          "base_uri": "https://localhost:8080/"
        },
        "outputId": "7d94485e-1023-4eab-a4d6-0a7c6d22370e"
      },
      "execution_count": null,
      "outputs": [
        {
          "output_type": "stream",
          "name": "stdout",
          "text": [
            "7 is greater than 5\n"
          ]
        }
      ]
    },
    {
      "cell_type": "markdown",
      "source": [
        "## Short hand if-else statement\n",
        "\n",
        "\n",
        "```\n",
        "(*** if block set of instruction***) if CONDITION else (***else block set of instruction***)\n",
        "```\n",
        "\n"
      ],
      "metadata": {
        "id": "8jgN2LbOfDu9"
      }
    },
    {
      "cell_type": "code",
      "source": [
        "a = 7\n",
        "b = 5\n",
        "print('{0} is greater than {1}'.format(a,b)) if a > b else print('{1} is greater than {0}'.format(a,b))"
      ],
      "metadata": {
        "colab": {
          "base_uri": "https://localhost:8080/"
        },
        "id": "qyu2zULsgO-G",
        "outputId": "3b2a3a0a-3477-476d-891b-95ec9e063000"
      },
      "execution_count": null,
      "outputs": [
        {
          "output_type": "stream",
          "name": "stdout",
          "text": [
            "7 is greater than 5\n"
          ]
        }
      ]
    },
    {
      "cell_type": "markdown",
      "source": [
        "\n",
        "\n",
        "```\n",
        "if (condition1):\n",
        "            #set of instructions for condition1\n",
        "elif (condition2):   \n",
        "            #set of instructions for condition2\n",
        "else:\n",
        "       #set of instructions if all the aboves are false\n",
        "\n",
        "# end of elif ladder\n",
        "\n",
        "```\n",
        "\n"
      ],
      "metadata": {
        "id": "t740biQWjSRt"
      }
    },
    {
      "cell_type": "code",
      "source": [
        "a = 330\n",
        "b = 339\n",
        "c = 332\n",
        "print(\"{0} is greater than {1} and {2}\".format(a,b,c)) if (a>b and a>c) else print(\"{1} is greater than {0} and {2}\".format(a,b,c)) if b>a and b>c else print(\"{0} is greater than {1} and {2}\".format(a,b,c)) if (a>b and a>c) else print(\"{2} is greater than {0} and {1}\".format(a,b,c))"
      ],
      "metadata": {
        "colab": {
          "base_uri": "https://localhost:8080/"
        },
        "id": "ZD3_mW8wiEUn",
        "outputId": "5cf19438-20b2-4003-ad30-352707164102"
      },
      "execution_count": null,
      "outputs": [
        {
          "output_type": "stream",
          "name": "stdout",
          "text": [
            "339 is greater than 330 and 332\n"
          ]
        }
      ]
    },
    {
      "cell_type": "code",
      "source": [
        "if 15 > 16 and 15 <20:\n",
        "  print('This statement is not printed')"
      ],
      "metadata": {
        "id": "NUnhgFcImo49"
      },
      "execution_count": null,
      "outputs": []
    },
    {
      "cell_type": "markdown",
      "source": [
        "## The pass Statement:\n",
        "\n",
        "# ***if statements*** cannot be empty.\n",
        "# Due to some reason an if statement with no content, put in the ***pass statement*** to avoid getting an error."
      ],
      "metadata": {
        "id": "70NvswOBt7q9"
      }
    },
    {
      "cell_type": "code",
      "source": [
        "a = 33\n",
        "b = 200\n",
        "\n",
        "if b > a:\n",
        "  pass"
      ],
      "metadata": {
        "id": "t5TeVMokuU0Z"
      },
      "execution_count": null,
      "outputs": []
    },
    {
      "cell_type": "code",
      "source": [
        "'''\n",
        "1.write a program to increase by one the input value if it is greater than 10\n",
        "else decrease by one\n",
        "'''\n",
        "# write your code here\n",
        "\n",
        "value = int(input('Enter the number'))\n",
        "if value>10:\n",
        "  value = value + 1\n",
        "  print('The entered value is greater than 10 and its current value is {}'.format(value))\n",
        "else:\n",
        "  value = value - 1\n",
        "  print('The entered value is less than 10 and its current value is {}'.format(value))\n",
        "\n"
      ],
      "metadata": {
        "id": "7EVkUEFwjpWg",
        "colab": {
          "base_uri": "https://localhost:8080/"
        },
        "outputId": "12b6e01b-800e-409f-ecd6-72b38a6461f6"
      },
      "execution_count": null,
      "outputs": [
        {
          "output_type": "stream",
          "name": "stdout",
          "text": [
            "Enter the number10\n",
            "The entered value is less than 10 and its current value is 9\n"
          ]
        }
      ]
    },
    {
      "cell_type": "code",
      "source": [
        "'''\n",
        "2.Write a program to determine whether a person is eligible to vote\n",
        "'''\n",
        "# write your code here\n",
        "age = int(input('Enter the age'))\n",
        "if age >= 18:\n",
        "  print('Student is eligible for vote')"
      ],
      "metadata": {
        "id": "LhcMlxL8j3jD",
        "colab": {
          "base_uri": "https://localhost:8080/"
        },
        "outputId": "ad830bc7-822e-41ca-c7ab-bf4d19addf21"
      },
      "execution_count": null,
      "outputs": [
        {
          "name": "stdout",
          "output_type": "stream",
          "text": [
            "Enter the age17\n"
          ]
        }
      ]
    },
    {
      "cell_type": "code",
      "source": [
        "'''\n",
        "3.Write a program to determine the character entered by the user\n",
        "hint: character is a alphabet or a digit or a special character\n",
        "'''\n",
        "# write your code here\n",
        "character = input('Enter the character')\n",
        "\n",
        "if (character >='A' and character <='Z') or (character >='a' and character <='z'):\n",
        "  print('The character {} is an alphabet'.format(character))\n",
        "elif character >='0' and character <='9':\n",
        "  print('The character {} is a digit'.format(character))\n",
        "else:\n",
        "  print('The character {} is a special character'.format(character))"
      ],
      "metadata": {
        "id": "dvnZ1-IckHD8"
      },
      "execution_count": null,
      "outputs": []
    },
    {
      "cell_type": "code",
      "source": [
        "'''\n",
        "4.Write a program to determine whether a person is eligible to vote or not\n",
        "'''\n",
        "# write your code here\n",
        "age = int(input('Enter the age'))\n",
        "if age >= 18:\n",
        "  print('Person is eligible for vote')\n",
        "else:\n",
        "  print('Perosn is not eligible for vote')\n"
      ],
      "metadata": {
        "id": "ehAU0ktZkTDT",
        "colab": {
          "base_uri": "https://localhost:8080/"
        },
        "outputId": "1f030d84-ccfc-47a3-ef9c-406c6d864028"
      },
      "execution_count": null,
      "outputs": [
        {
          "output_type": "stream",
          "name": "stdout",
          "text": [
            "Enter the age17\n",
            "Perosn is not eligible for vote\n"
          ]
        }
      ]
    },
    {
      "cell_type": "code",
      "source": [
        "'''\n",
        "5.Write a program to find the largest of the two given numbers\n",
        "'''\n",
        "# write your code here\n",
        "num1 = int(input('Enter the first number'))\n",
        "num2 = int(input('Enter the second number'))\n",
        "if num1 > num2:\n",
        "  print('{0} is greater than {1}'.format(num1, num2))\n",
        "else:\n",
        "  print('{1} is greater than {0}'.format(num1, num2))"
      ],
      "metadata": {
        "id": "__PNNafNkfx5",
        "colab": {
          "base_uri": "https://localhost:8080/"
        },
        "outputId": "bff82afe-be61-4bf6-eaa2-85749e6a5061"
      },
      "execution_count": null,
      "outputs": [
        {
          "output_type": "stream",
          "name": "stdout",
          "text": [
            "Enter the first number10\n",
            "Enter the second number20\n",
            "20 is greater than 10\n"
          ]
        }
      ]
    },
    {
      "cell_type": "code",
      "source": [
        "'''\n",
        "6.Write a program to determine whether the given number is even or odd\n",
        "'''\n",
        "# write your code here\n",
        "number = int(input('Enter the number'))\n",
        "if number % 2 == 0:\n",
        "  print('{} is an even number'.format(number))\n",
        "else:\n",
        "  print('{} is a odd number'.format(number))"
      ],
      "metadata": {
        "id": "ARAy4ufNkkut",
        "colab": {
          "base_uri": "https://localhost:8080/"
        },
        "outputId": "eeec88a3-5896-4528-d824-3eda9f423e7e"
      },
      "execution_count": null,
      "outputs": [
        {
          "output_type": "stream",
          "name": "stdout",
          "text": [
            "Enter the number3\n",
            "3 is a odd number\n"
          ]
        }
      ]
    },
    {
      "cell_type": "code",
      "source": [
        "'''\n",
        "7.Write a program to read a alphabet from the user. If the eneterd character is\n",
        "a lower case convert into upper case or if the character is upper case convert it into\n",
        "lower case\n",
        "'''\n",
        "# write your code here\n",
        "aplha = input('Enter an alphabet')\n",
        "if aplha >= 'A' and aplha <= 'Z':\n",
        "  print('{}\\'s Lower case is {}'.format(aplha,aplha.lower()))\n",
        "elif aplha >= 'a' and aplha <= 'z':\n",
        "  print('{}\\'s upper case is {}'.format(aplha,aplha.upper()))\n",
        "else:\n",
        "  print('{} is not an alphabet'.format(aplha))"
      ],
      "metadata": {
        "id": "gCXzMK7EkpdA",
        "colab": {
          "base_uri": "https://localhost:8080/"
        },
        "outputId": "624e7415-d2af-4fea-8e85-cd02a4b9f9b6"
      },
      "execution_count": null,
      "outputs": [
        {
          "output_type": "stream",
          "name": "stdout",
          "text": [
            "Enter an alphabet@\n",
            "@ is not an alphabet\n"
          ]
        }
      ]
    },
    {
      "cell_type": "code",
      "source": [
        "'''\n",
        "8.Write a program to read a year from the user. Check if the entered year is\n",
        "a leap year or not\n",
        "'''\n",
        "# write your code here"
      ],
      "metadata": {
        "id": "j5ioFhMRlJLt"
      },
      "execution_count": null,
      "outputs": []
    },
    {
      "cell_type": "code",
      "source": [
        "'''\n",
        " 9.Write a program to read a value from the user and print whether it is a:\n",
        " positive\n",
        " negative\n",
        " zero\n",
        "'''\n",
        "# write your code here\n",
        "num = float(input('Enter the number'))\n",
        "if num > 0:\n",
        "  print('{} is a positive number'.format(num))\n",
        "elif num < 0:\n",
        "  print('{} is a negative number'.format(num))\n",
        "else:\n",
        "  print('{} is zero'.format(num))"
      ],
      "metadata": {
        "id": "9LKiktFulWwx",
        "colab": {
          "base_uri": "https://localhost:8080/"
        },
        "outputId": "9d59143d-deca-4b73-f2fb-178aa98caa29"
      },
      "execution_count": null,
      "outputs": [
        {
          "output_type": "stream",
          "name": "stdout",
          "text": [
            "Enter the number0.5\n",
            "0.5 is a positive number\n"
          ]
        }
      ]
    },
    {
      "cell_type": "code",
      "source": [
        "'''\n",
        " 10.Write a program to read a value from the user and\n",
        " print the in which interval the value is in.\n",
        " Hint: 13 belongs to 10 - 20 interval\n",
        "       20 belogns to 20 - 30 interval\n",
        "'''\n",
        "# write your code here\n",
        "num = int(input('Enter the number'))\n",
        "\n",
        "if num>=0 and num < 10:\n",
        "  print('The number {} is in the interval 0 - 10')\n",
        "elif num>=10 and num < 20:\n",
        "  print('The number {} is in the interval 10 - 20')\n",
        "if num>=20 and num < 30:\n",
        "  print('The number {} is in the interval 20 - 30')\n",
        "if num>=30 and num < 40:\n",
        "  print('The number {} is in the interval 30 - 40')\n",
        "if num>=40 and num < 50:\n",
        "  print('The number {} is in the interval 40 - 50')\n",
        "if num>=50 and num < 60:\n",
        "  print('The number {} is in the interval 50 - 60')\n",
        "if num>=60 and num < 70:\n",
        "  print('The number {} is in the interval 60 - 70')\n",
        "if num>=70 and num < 80:\n",
        "  print('The number {} is in the interval 70 - 80')\n",
        "if num>=80 and num < 90:\n",
        "  print('The number {} is in the interval 80 - 90')\n",
        "if num>=90 and num <= 100:\n",
        "  print('The number {} is in the interval 90 - 100')\n",
        ""
      ],
      "metadata": {
        "id": "M8Mym8_WmT-q",
        "colab": {
          "base_uri": "https://localhost:8080/"
        },
        "outputId": "f725b392-82cd-427c-a862-4074306d96be"
      },
      "execution_count": null,
      "outputs": [
        {
          "output_type": "stream",
          "name": "stdout",
          "text": [
            "Enter the number38\n",
            "The number {} is in the interval 30 - 40\n"
          ]
        }
      ]
    },
    {
      "cell_type": "code",
      "source": [
        "'''\n",
        "11. Write a program to read a character to determine whether\n",
        "the character entered is vowel or not\n",
        "'''\n",
        "# write your code here\n",
        "character = input('Enter a character')\n",
        "if (character >='A' and character <='Z') or (character >='a' and character <='z'):\n",
        "  if character =='A' or character =='E' or character =='I' or character =='O'or character =='U':\n",
        "    print('{} is a vowel'.format(character))\n",
        "  elif character =='a' or character =='e' or character =='i' or character =='o'or character =='u':\n",
        "    print('{} is a vowel'.format(character))\n",
        "  else:\n",
        "    print('{} is not vowel'.format(character))\n",
        "else:\n",
        "  print('{} is not an alphabet'.format(character))"
      ],
      "metadata": {
        "id": "h7NpcXWQzCOt",
        "colab": {
          "base_uri": "https://localhost:8080/"
        },
        "outputId": "f8658b16-452a-4f74-95f0-5c70e2c79332"
      },
      "execution_count": null,
      "outputs": [
        {
          "output_type": "stream",
          "name": "stdout",
          "text": [
            "Enter a character8\n",
            "8 is not an alphabet\n"
          ]
        }
      ]
    },
    {
      "cell_type": "code",
      "source": [
        "'''\n",
        "12. Write a program to read a number between 1 - 7 and\n",
        "print the corresponding day of the week.\n",
        "'''\n",
        "# write your code here\n",
        "weekday = int(input('Enter the a number between 1- 7'))\n",
        "if weekday == 1:\n",
        "  print('Monday')\n",
        "elif weekday == 2:\n",
        "  print('Tuesday')\n",
        "elif weekday == 3:\n",
        "  print('Wedensday')\n",
        "elif weekday == 4:\n",
        "  print('Thursday')\n",
        "elif weekday == 5:\n",
        "  print('Friday')\n",
        "elif weekday == 6:\n",
        "  print('Saturday')\n",
        "elif weekday == 7:\n",
        "  print('Sunday')\n",
        "else:\n",
        "  print('Invalid number')"
      ],
      "metadata": {
        "id": "wv1Ib72MzdLo",
        "colab": {
          "base_uri": "https://localhost:8080/"
        },
        "outputId": "ae620193-e1ad-4558-e363-189d79802f26"
      },
      "execution_count": null,
      "outputs": [
        {
          "output_type": "stream",
          "name": "stdout",
          "text": [
            "Enter the a number between 1- 74\n",
            "Thursday\n"
          ]
        }
      ]
    },
    {
      "cell_type": "code",
      "source": [
        "'''\n",
        "12. Write a program to read a number between 1 - 12 and print the corresponding\n",
        "month of the year.\n",
        "'''\n",
        "# write your code here\n",
        "\n",
        "month = int(input('Enter the a number between 1- 12'))\n",
        "if month == 1:\n",
        "  print('Janaury')\n",
        "elif month == 2:\n",
        "  print('February')\n",
        "elif month == 3:\n",
        "  print('March')\n",
        "elif month == 4:\n",
        "  print('April')\n",
        "elif month == 5:\n",
        "  print('May')\n",
        "elif month == 6:\n",
        "  print('June')\n",
        "elif month == 7:\n",
        "  print('July')\n",
        "elif month == 8:\n",
        "  print('August')\n",
        "elif month == 9:\n",
        "  print('September')\n",
        "elif month == 10:\n",
        "  print('October')\n",
        "elif month == 11:\n",
        "  print('November')\n",
        "elif month == 12:\n",
        "  print('December')\n",
        "else:\n",
        "  print('Invalid number')"
      ],
      "metadata": {
        "id": "pt8dBQjCz34V",
        "colab": {
          "base_uri": "https://localhost:8080/"
        },
        "outputId": "62ea5a32-1326-4cec-95a4-a9bbd5ca4a5e"
      },
      "execution_count": null,
      "outputs": [
        {
          "output_type": "stream",
          "name": "stdout",
          "text": [
            "Enter the a number between 1- 1211\n",
            "November\n"
          ]
        }
      ]
    },
    {
      "cell_type": "code",
      "source": [
        "'''\n",
        "13. Write a program to caluclate tax given the following conditions:\n",
        "\n",
        "Income between 0 and 3,00,000 - 0\n",
        "Income between 3,00,001 and 6,00,000 - 5%\n",
        "Income between 6,00,001 and 9,00,000 - 10%\n",
        "Income between 9,00,001 and 12,00,000 - 15%\n",
        "Income Bbtween 12,00,001 and 15,00,000 - 20%\n",
        "Income Above 15,00,001 - 30%\n",
        "'''\n",
        "# write your code here\n",
        "\n"
      ],
      "metadata": {
        "id": "L4dK7px9z996"
      },
      "execution_count": null,
      "outputs": []
    },
    {
      "cell_type": "code",
      "source": [
        "'''\n",
        "14. Write a program to read a character from the user and check as follows:\n",
        "1. It is digit\n",
        "2. Special symbol\n",
        "3. If it is a alphabet, then check whether it is upper case or lower case alphabet\n",
        "\n",
        "Note: Write both versions 1. Using library functions 2. Without using library functions\n",
        "'''\n",
        "# write your code here\n",
        "\n",
        "aplha = input('Enter an alphabet')\n",
        "if aplha >= 'A' and aplha <= 'Z' or aplha >= 'a' and aplha <= 'z':\n",
        "  if aplha >= 'A' and aplha <= 'Z':\n",
        "    print('{} is an alphabet, {}\\'s Lower case is {}'.format(aplha,aplha,aplha.upper()))\n",
        "  else:\n",
        "    print('{} is an alphabet, {}\\'s Upper case is {}'.format(aplha, aplha,aplha.upper()))\n",
        "elif aplha >='0' and aplha <= '9':\n",
        "  print('{} is not an alphabet'.format(aplha))\n",
        "else:\n",
        "  print('{} is a special character'.format(aplha))"
      ],
      "metadata": {
        "id": "Oe-fLK-809gP",
        "colab": {
          "base_uri": "https://localhost:8080/"
        },
        "outputId": "26af0bbf-8787-46ed-a7e7-ffafcdf2714d"
      },
      "execution_count": null,
      "outputs": [
        {
          "output_type": "stream",
          "name": "stdout",
          "text": [
            "Enter an alphabeta\n",
            "a's Upper case is A\n"
          ]
        }
      ]
    },
    {
      "cell_type": "code",
      "source": [
        "aplha = input('Enter an alphabet')\n",
        "if aplha >= 'A' and aplha <= 'Z' or aplha >= 'a' and aplha <= 'z':\n",
        "  if aplha >= 'A' and aplha <= 'Z':\n",
        "    print('{} is an alphabet, {}\\'s Lower case is {}'.format(aplha,aplha,chr(ord(aplha)+32)))\n",
        "  else:\n",
        "    print('{} is an alphabet, {}\\'s Upper case is {}'.format(aplha, aplha,chr(ord(aplha)-32)))\n",
        "elif aplha >='0' and aplha <= '9':\n",
        "  print('{} is not an alphabet'.format(aplha))\n",
        "else:\n",
        "  print('{} is a special character'.format(aplha))"
      ],
      "metadata": {
        "colab": {
          "base_uri": "https://localhost:8080/"
        },
        "id": "4TqQefEXKwOL",
        "outputId": "70fee701-e898-405c-9a27-56f8a153a10c"
      },
      "execution_count": null,
      "outputs": [
        {
          "output_type": "stream",
          "name": "stdout",
          "text": [
            "Enter an alphabeta\n",
            "a is an alphaber a's Upper case is A\n"
          ]
        }
      ]
    },
    {
      "cell_type": "code",
      "source": [
        "'''\n",
        "15. Wirte a program to find the roots of a quadratic equation.\n",
        "'''\n",
        "# write your code here\n",
        "a,b,c = input('Enter the cofficients a, b, c').split(',')\n",
        "a = float(a)\n",
        "b = float(b)\n",
        "c = float(c)\n",
        "\n",
        "if (b**2 - (4 * a * c)) > 0:\n",
        "  print('The roots are real and different')\n",
        "  root1 = (-b + (b**2 - (4 * a * c))**0.5)/(2*a)\n",
        "  root2 = (-b - (b**2 - (4 * a * c))**0.5)/(2*a)\n",
        "  print('The roots are r1={:0.2f}, r2={:0.2f}'.format(root1,root2))\n",
        "elif (b**2 - (4 * a * c)) < 0:\n",
        "  root1 = (-b + (b**2 - (4 * a * c))**0.5)/(2*a)\n",
        "  root2 = (-b - (b**2 - (4 * a * c))**0.5)/(2*a)\n",
        "  print('The roots are r1={:.2f}, r2={:.2f}'.format(root1,root2))\n",
        "else:\n",
        "  root1 = root2= -b / (2*2)\n",
        "  print('The roots are r1={:0.2f}, r2={:0.2f}'.format(root1,root2))\n"
      ],
      "metadata": {
        "id": "nCHaekf22M_y",
        "colab": {
          "base_uri": "https://localhost:8080/"
        },
        "outputId": "eea045b5-f524-4273-e3ab-5871dae99ef9"
      },
      "execution_count": null,
      "outputs": [
        {
          "output_type": "stream",
          "name": "stdout",
          "text": [
            "Enter the cofficients a, b, c3,-1,2\n",
            "The roots are r1=0.17+0.80j, r2=0.17-0.80j\n"
          ]
        }
      ]
    }
  ]
}