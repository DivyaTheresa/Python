{
  "nbformat": 4,
  "nbformat_minor": 0,
  "metadata": {
    "colab": {
      "provenance": [],
      "include_colab_link": true
    },
    "kernelspec": {
      "name": "python3",
      "display_name": "Python 3"
    },
    "language_info": {
      "name": "python"
    }
  },
  "cells": [
    {
      "cell_type": "markdown",
      "metadata": {
        "id": "view-in-github",
        "colab_type": "text"
      },
      "source": [
        "<a href=\"https://colab.research.google.com/github/DivyaTheresa/Python/blob/main/Loops.ipynb\" target=\"_parent\"><img src=\"https://colab.research.google.com/assets/colab-badge.svg\" alt=\"Open In Colab\"/></a>"
      ]
    },
    {
      "cell_type": "markdown",
      "source": [
        "## Loops"
      ],
      "metadata": {
        "id": "nxfW6NXtuJSF"
      }
    },
    {
      "cell_type": "code",
      "source": [
        "ch = input('Enter a character')\n",
        "if (ch >= 'A' and ch <= 'Z') or (ch >='a' and ch<='z'):\n",
        "  print('It is an alphabet')\n",
        "  if (ch >= 'A' and ch <= 'Z'):\n",
        "    print('It is an uppercase')\n",
        "  elif (ch >='a' and ch<='z'):\n",
        "    print('It is an lower case')\n",
        "elif ch>='0'and ch<='9':\n",
        "  print('It is a digit')\n",
        "else:\n",
        "  print('It is special symbol')\n"
      ],
      "metadata": {
        "colab": {
          "base_uri": "https://localhost:8080/"
        },
        "id": "1h8x4wz9FayZ",
        "outputId": "fdd3d227-f845-4111-e7c3-c144c7ea06fe"
      },
      "execution_count": null,
      "outputs": [
        {
          "output_type": "stream",
          "name": "stdout",
          "text": [
            "Enter a charactera\n",
            "It is an alphabet\n",
            "It is an lower case\n"
          ]
        }
      ]
    },
    {
      "cell_type": "code",
      "source": [
        "n = int(input('Enther the number'))\n",
        "'''for i in range(1,n+1):\n",
        "  if i %2 !=0:\n",
        "    print(i,end=' ')\n",
        "else:\n",
        "  print('\\nEnd of the for loop')\n",
        "  '''\n",
        "i = 0\n",
        "while i<=n:\n",
        "    print(i,end=' ')\n",
        "    i = i + 1\n",
        "else:\n",
        "  print('End of the while loop')\n"
      ],
      "metadata": {
        "colab": {
          "base_uri": "https://localhost:8080/"
        },
        "id": "7dVZD9PbIkmb",
        "outputId": "b65f4db4-cdfb-449c-e976-8505d7a61aa8"
      },
      "execution_count": null,
      "outputs": [
        {
          "output_type": "stream",
          "name": "stdout",
          "text": [
            "Enther the number20\n",
            "0 1 2 3 4 5 6 7 8 9 10 11 12 13 14 15 16 17 18 19 20 End of the while loop\n"
          ]
        }
      ]
    },
    {
      "cell_type": "markdown",
      "source": [
        "In a program, statements are executed in a sequential manner. i.e. the execution of a program always starts from the first line, followed by the second, and so on.\n",
        "\n",
        "Sometimes,we need a block of code to execute for certain number of times."
      ],
      "metadata": {
        "id": "h4PwcXTbx85m"
      }
    },
    {
      "cell_type": "markdown",
      "source": [
        "## General Use of Loops:\n",
        "For a real world problems, we need to repeat an action based on requriements.\n",
        "\n",
        "Loops can be used to solve complex problems.\n",
        "In real world, we require to repeat an action until a condition is met(while) or a problem that requires you to perform an action on a bunch of items (for)."
      ],
      "metadata": {
        "id": "v8o21TspzGKd"
      }
    },
    {
      "cell_type": "markdown",
      "source": [
        "#\tLoop type\tDescription:for loop\n",
        "\n",
        "It executes a piece of code repeatedly for a number of times, based on the number of items in that iterable object.\n",
        "\n",
        "It is also an iterator based loop, which steps through the items of iterable objects like lists, tuples, and string.\n",
        "\n",
        "\n",
        "```\n",
        "The for loop is zero-indexed and has the following syntax.\n",
        "\n",
        "for in range(start,end,step):\n",
        "\n",
        "\n",
        "\n",
        "start: initial point\n",
        "end: end point\n",
        "step: 1 (default)\n",
        "```\n",
        "\n",
        "\n"
      ],
      "metadata": {
        "id": "q8mKTSmmGFEB"
      }
    },
    {
      "cell_type": "code",
      "source": [
        "for i in range(0,11):\n",
        "     print(i)"
      ],
      "metadata": {
        "colab": {
          "base_uri": "https://localhost:8080/"
        },
        "id": "_p31-CWpuI3G",
        "outputId": "2937cc00-4c59-4681-90db-c63916e2374a"
      },
      "execution_count": null,
      "outputs": [
        {
          "output_type": "stream",
          "name": "stdout",
          "text": [
            "0\n",
            "1\n",
            "2\n",
            "3\n",
            "4\n",
            "5\n",
            "6\n",
            "7\n",
            "8\n",
            "9\n",
            "10\n"
          ]
        }
      ]
    },
    {
      "cell_type": "code",
      "source": [
        "for i in range(0,11):\n",
        "  print(i,end=' ')"
      ],
      "metadata": {
        "colab": {
          "base_uri": "https://localhost:8080/"
        },
        "id": "kg4STob3fCmJ",
        "outputId": "f3adc52f-1431-434c-c9bf-238b251acb07"
      },
      "execution_count": null,
      "outputs": [
        {
          "output_type": "stream",
          "name": "stdout",
          "text": [
            "0 1 2 3 4 5 6 7 8 9 10 "
          ]
        }
      ]
    },
    {
      "cell_type": "code",
      "source": [
        "#sum of the even numbers\n",
        "sum = 0\n",
        "for i in range(0,11):\n",
        "  if i % 2 == 0:\n",
        "    sum +=i\n",
        "    print(i, end=' ')\n",
        "print('Sum of the even numbers upto {} is {}'.format(10,sum))"
      ],
      "metadata": {
        "colab": {
          "base_uri": "https://localhost:8080/"
        },
        "id": "H1CPtkVsfIQI",
        "outputId": "43505095-c0c6-432c-f227-db3a2075b364"
      },
      "execution_count": null,
      "outputs": [
        {
          "output_type": "stream",
          "name": "stdout",
          "text": [
            "0 2 4 6 8 10 Sum of the even numbers upto 10 is 30\n"
          ]
        }
      ]
    },
    {
      "cell_type": "code",
      "source": [
        "#prime number\n",
        "# a prime number is a number which divides with one and itself\n",
        "num1,num2 = int(input('Enter the starting number')),int(input('Enter the starting number'))\n",
        "count = 0\n",
        "for j in range (num1, num2+1):\n",
        "  count = 0\n",
        "  for i in range(1, j+1):\n",
        "    if j % i == 0:\n",
        "      count+=1\n",
        "  #if ends\n",
        "#for loop ends\n",
        "  if count == 2:\n",
        "    print(j)\n",
        "# outer for loop ends\n",
        "\n",
        "\n",
        "\n"
      ],
      "metadata": {
        "colab": {
          "base_uri": "https://localhost:8080/"
        },
        "id": "GPx2zsg8LSJg",
        "outputId": "10e68fe8-5aa3-40d5-fc68-dfb22745519e"
      },
      "execution_count": null,
      "outputs": [
        {
          "output_type": "stream",
          "name": "stdout",
          "text": [
            "Enter the starting number10\n",
            "Enter the starting number20\n",
            "11\n",
            "13\n",
            "17\n",
            "19\n"
          ]
        }
      ]
    },
    {
      "cell_type": "code",
      "source": [
        "num = int(input('Enter the number'))\n",
        "sum = 0\n",
        "count = 0\n",
        "while num != -1:\n",
        "  sum = num + sum\n",
        "  count = count + 1\n",
        "  num = int(input('Enter the number'))\n",
        "\n",
        "print('Sum is {}'.format(sum))\n",
        "print('Average is {}'.format(sum/count))\n"
      ],
      "metadata": {
        "colab": {
          "base_uri": "https://localhost:8080/"
        },
        "id": "2AyoXpV1YG0L",
        "outputId": "a123c0c3-da36-4a02-98d9-bf1eea200df3"
      },
      "execution_count": null,
      "outputs": [
        {
          "output_type": "stream",
          "name": "stdout",
          "text": [
            "Enter the number2\n",
            "Enter the number4\n",
            "Enter the number5\n",
            "Enter the number6\n",
            "Enter the number-1\n",
            "Sum is 17\n",
            "Average is 4.25\n"
          ]
        }
      ]
    },
    {
      "cell_type": "code",
      "source": [
        "ch = input('Enter the character')\n",
        "print(ord(ch))\n",
        "print(chr(65))"
      ],
      "metadata": {
        "colab": {
          "base_uri": "https://localhost:8080/"
        },
        "id": "nlBnM9VMY7yS",
        "outputId": "87940414-b667-4752-a0dc-ec8b6d6b1550"
      },
      "execution_count": null,
      "outputs": [
        {
          "output_type": "stream",
          "name": "stdout",
          "text": [
            "Enter the characterA\n",
            "65\n",
            "A\n"
          ]
        }
      ]
    },
    {
      "cell_type": "code",
      "source": [
        "#sum of the odd numbers\n",
        "sum = 0\n",
        "for i in range(1,11):\n",
        "  if i % 2 != 0:\n",
        "    sum +=i\n",
        "    print(i, end=' ')\n",
        "print('Sum of the odd numbers upto {} is {}'.format(10,sum))"
      ],
      "metadata": {
        "colab": {
          "base_uri": "https://localhost:8080/"
        },
        "id": "etAOPSIOfp1m",
        "outputId": "0e9ec6e8-a4ff-4282-c4ce-d3261c1d7d3e"
      },
      "execution_count": null,
      "outputs": [
        {
          "output_type": "stream",
          "name": "stdout",
          "text": [
            "1 3 5 7 9 Sum of the even numbers upto 10 is 25\n"
          ]
        }
      ]
    },
    {
      "cell_type": "code",
      "source": [
        "#fabinocai series\n",
        "f1 = 0\n",
        "f2 = 1\n",
        "f3 = 0\n",
        "\n",
        "for i in range(1,100):\n",
        "  f3 = f1 + f2\n",
        "  print(f1,end=' ')\n",
        "  f1 = f2\n",
        "  f2 = f3\n"
      ],
      "metadata": {
        "colab": {
          "base_uri": "https://localhost:8080/"
        },
        "id": "rPyv19AHhL77",
        "outputId": "6bd402b7-93ad-4117-dceb-7ae2f3260a7b"
      },
      "execution_count": null,
      "outputs": [
        {
          "output_type": "stream",
          "name": "stdout",
          "text": [
            "0 1 1 2 3 5 8 13 21 34 55 89 144 233 377 610 987 1597 2584 4181 6765 10946 17711 28657 46368 75025 121393 196418 317811 514229 832040 1346269 2178309 3524578 5702887 9227465 14930352 24157817 39088169 63245986 102334155 165580141 267914296 433494437 701408733 1134903170 1836311903 2971215073 4807526976 7778742049 12586269025 20365011074 32951280099 53316291173 86267571272 139583862445 225851433717 365435296162 591286729879 956722026041 1548008755920 2504730781961 4052739537881 6557470319842 10610209857723 17167680177565 27777890035288 44945570212853 72723460248141 117669030460994 190392490709135 308061521170129 498454011879264 806515533049393 1304969544928657 2111485077978050 3416454622906707 5527939700884757 8944394323791464 14472334024676221 23416728348467685 37889062373143906 61305790721611591 99194853094755497 160500643816367088 259695496911122585 420196140727489673 679891637638612258 1100087778366101931 1779979416004714189 2880067194370816120 4660046610375530309 7540113804746346429 12200160415121876738 19740274219868223167 31940434634990099905 51680708854858323072 83621143489848422977 135301852344706746049 "
          ]
        }
      ]
    },
    {
      "cell_type": "code",
      "source": [
        "# x = 1/1! + 1/2! + 1/3! + 1/4! + ..... n\n",
        "import math\n",
        "\n",
        "n = int(input('Enter number of terms'))\n",
        "x = 0\n",
        "\n",
        "for i in range(1,n+1):\n",
        "  x = x + (1/math.factorial(i))\n",
        "\n",
        "print('The sum x = 1/1! + 1/2! + 1/3! + 1/4! + ..... n ='+str(x))\n"
      ],
      "metadata": {
        "colab": {
          "base_uri": "https://localhost:8080/"
        },
        "id": "ibytLuKhiSXv",
        "outputId": "fe34f11d-2114-41c4-f337-e90906b561d3"
      },
      "execution_count": null,
      "outputs": [
        {
          "output_type": "stream",
          "name": "stdout",
          "text": [
            "Enter number of terms2\n",
            "The sum x = 1/1! + 1/2! + 1/3! + 1/4! + ..... n =1.5\n"
          ]
        }
      ]
    },
    {
      "cell_type": "code",
      "source": [
        "# sum = 1 - 1/x + 1/x^2 - 1/x^3 + ... + (-1)^n *1/x^n\n",
        "sum = 0\n",
        "x = 0.5\n",
        "n = 5\n",
        "for i in range(0,n+1):\n",
        "  if i %2 == 0:\n",
        "    sum += (1/x**i)\n",
        "    #end of if block\n",
        "  else:\n",
        "    sum -= (1/x**i)\n",
        "    #end of else block\n",
        "#end for loop\n",
        "print(sum)"
      ],
      "metadata": {
        "colab": {
          "base_uri": "https://localhost:8080/"
        },
        "id": "Fk6fGY9u8orc",
        "outputId": "2358728a-5f6c-427f-f81b-54c3e4ab2b1b"
      },
      "execution_count": null,
      "outputs": [
        {
          "output_type": "stream",
          "name": "stdout",
          "text": [
            "-21.0\n"
          ]
        }
      ]
    },
    {
      "cell_type": "code",
      "source": [
        "# sum = 1 + x/1! + x^2/2! + x^3/3! + ... +  x^n/n!\n",
        "sum = 0\n",
        "x = 0.5\n",
        "n = 5\n",
        "for i in range(0,n+1):\n",
        " sum+= (x**i/math.factorial(i))\n",
        "#end for loop\n",
        "print('%0.2f'%sum)\n",
        "print(round(sum,2))"
      ],
      "metadata": {
        "colab": {
          "base_uri": "https://localhost:8080/"
        },
        "id": "Z4Xd6q-8IU4k",
        "outputId": "6c20468d-1466-4ed3-f026-3b365bfed20c"
      },
      "execution_count": null,
      "outputs": [
        {
          "output_type": "stream",
          "name": "stdout",
          "text": [
            "1.65\n",
            "1.65\n"
          ]
        }
      ]
    },
    {
      "cell_type": "code",
      "source": [
        "n = 10\n",
        "for i in range(1,n+1):\n",
        "  for j in range(1,i+1):\n",
        "    print(j,end=' ')\n",
        "  print('\\n')\n"
      ],
      "metadata": {
        "colab": {
          "base_uri": "https://localhost:8080/"
        },
        "id": "WGAQWQHRNW5a",
        "outputId": "d8be8066-b5bc-4450-8d3b-1e452a1f7947"
      },
      "execution_count": null,
      "outputs": [
        {
          "output_type": "stream",
          "name": "stdout",
          "text": [
            "1 \n",
            "\n",
            "1 2 \n",
            "\n",
            "1 2 3 \n",
            "\n",
            "1 2 3 4 \n",
            "\n",
            "1 2 3 4 5 \n",
            "\n",
            "1 2 3 4 5 6 \n",
            "\n",
            "1 2 3 4 5 6 7 \n",
            "\n",
            "1 2 3 4 5 6 7 8 \n",
            "\n",
            "1 2 3 4 5 6 7 8 9 \n",
            "\n",
            "1 2 3 4 5 6 7 8 9 10 \n",
            "\n"
          ]
        }
      ]
    },
    {
      "cell_type": "markdown",
      "source": [
        "Python has two types of Loops.\n",
        "\n",
        "#\tLoop type\tDescription : while\n",
        "while loop\tExecutes a block of statements repeatedly as long as the CONDITION is TRUE."
      ],
      "metadata": {
        "id": "4l85QWkeGH9P"
      }
    },
    {
      "cell_type": "markdown",
      "source": [
        "While Loop:\n",
        "The while loop executes a block of statements repeatedly as long as the condition is TRUE.\n",
        "We notice that it is a bit similar to the if statement.\n",
        "\n",
        "The while loop has the following syntax:\n",
        "\n",
        "\n",
        "```\n",
        "\n",
        "while condition:\n",
        "    expression(block of code)\n",
        "```\n",
        "\n"
      ],
      "metadata": {
        "id": "mCSp99VbL4Vu"
      }
    },
    {
      "cell_type": "code",
      "source": [
        "i=0\n",
        "while i<10:\n",
        "  print(i, end=' ')\n",
        "  i=i+1"
      ],
      "metadata": {
        "colab": {
          "base_uri": "https://localhost:8080/"
        },
        "id": "fDZcrbrbKYj5",
        "outputId": "2926fb14-27f6-4d73-d406-39593f6d69b5"
      },
      "execution_count": null,
      "outputs": [
        {
          "output_type": "stream",
          "name": "stdout",
          "text": [
            "0 1 2 3 4 5 6 7 8 9 "
          ]
        }
      ]
    },
    {
      "cell_type": "code",
      "source": [
        "n = 10\n",
        "i = 1\n",
        "\n",
        "while i <n+1:\n",
        "  k=1\n",
        "  while k < i+1:\n",
        "    print(k,end=' ')\n",
        "    k+=1\n",
        "  i+=1\n",
        "  print()"
      ],
      "metadata": {
        "colab": {
          "base_uri": "https://localhost:8080/"
        },
        "id": "TMkYNcMcJZo7",
        "outputId": "64e0ccdd-c19b-4cad-e1f1-83a866bd08da"
      },
      "execution_count": null,
      "outputs": [
        {
          "output_type": "stream",
          "name": "stdout",
          "text": [
            "1 \n",
            "1 2 \n",
            "1 2 3 \n",
            "1 2 3 4 \n",
            "1 2 3 4 5 \n",
            "1 2 3 4 5 6 \n",
            "1 2 3 4 5 6 7 \n",
            "1 2 3 4 5 6 7 8 \n",
            "1 2 3 4 5 6 7 8 9 \n",
            "1 2 3 4 5 6 7 8 9 10 \n"
          ]
        }
      ]
    },
    {
      "cell_type": "markdown",
      "source": [
        "## The break Statement\n",
        "\n",
        "\n",
        "### IT IS IMPORTANT TO NOTE THAT A ***break*** STATEMENT IS USED WITH LOOPS ONLY.\n",
        "It is used to terminated the execution of the nearest enclosing loop in which it is present.\n",
        "\n",
        "It can used with both ***for*** and ***while*** loops.\n",
        "\n",
        "When ***break*** statement is encountered, control is passed to the immediate statment after end of the loop.\n",
        "\n",
        "Generally break statement used for exiting a loop after the requried task is accomplished"
      ],
      "metadata": {
        "id": "jNlEzgqCdDVL"
      }
    },
    {
      "cell_type": "code",
      "source": [
        "#using break statement with the for loop\n",
        "\n",
        "for i in range(1,11):\n",
        "  if i == 6:\n",
        "    break\n",
        "  #end of if block\n",
        "  else:\n",
        "    print(i,end=' ')\n",
        "  #end of else block\n",
        "#end of for loop\n"
      ],
      "metadata": {
        "colab": {
          "base_uri": "https://localhost:8080/"
        },
        "id": "nMYEIxTrcx-f",
        "outputId": "43ad7536-9d3f-4516-ec96-a27bcb051ee7"
      },
      "execution_count": null,
      "outputs": [
        {
          "output_type": "stream",
          "name": "stdout",
          "text": [
            "1 2 3 4 5 "
          ]
        }
      ]
    },
    {
      "cell_type": "code",
      "source": [
        "#using break statement with the while loop\n",
        "i = 1\n",
        "while i <= 10:\n",
        "  if i == 6:\n",
        "    break\n",
        "  #end of if block\n",
        "  else:\n",
        "    print(i,end=' ')\n",
        "  #end of else block\n",
        "  i = i + 1\n",
        "#end of while loop\n"
      ],
      "metadata": {
        "colab": {
          "base_uri": "https://localhost:8080/"
        },
        "id": "9-YdDSoieajM",
        "outputId": "1949f3fa-21ad-472e-f42c-09e90ee303d6"
      },
      "execution_count": null,
      "outputs": [
        {
          "output_type": "stream",
          "name": "stdout",
          "text": [
            "1 2 3 4 5 "
          ]
        }
      ]
    },
    {
      "cell_type": "markdown",
      "source": [
        "## The continue Statment\n",
        "\n",
        "### IT IS IMPORTANT TO NOTE THAT A ***continue*** STATEMENT IS USED WITH LOOPS ONLY.\n",
        "\n",
        "When a continue statement is encountered in the loop, the statements after that will skipped and control will be passed to begining of the loop.\n",
        "\n",
        "It is advised to use with ***for*** loop, instead ***while***.\n"
      ],
      "metadata": {
        "id": "tbvzV6XufTrQ"
      }
    },
    {
      "cell_type": "code",
      "source": [
        "# Using of continue statement with for loop\n",
        "# Skip printing if the value is 6 or 8\n",
        "\n",
        "for i in range(1,11):\n",
        "  if i == 6 or i == 8:\n",
        "    continue\n",
        "  #end of the if block\n",
        "  else:\n",
        "    print(i,end=' ')\n",
        "  #end of the else block\n",
        "#end of the for loop"
      ],
      "metadata": {
        "colab": {
          "base_uri": "https://localhost:8080/"
        },
        "id": "qL_xr9WpgogZ",
        "outputId": "21e33ada-ba10-4b79-b5c7-aeb8ef1f88ec"
      },
      "execution_count": null,
      "outputs": [
        {
          "output_type": "stream",
          "name": "stdout",
          "text": [
            "1 2 3 4 5 7 9 10 "
          ]
        }
      ]
    },
    {
      "cell_type": "markdown",
      "source": [
        "## The ***else*** Statement with loops\n",
        "\n",
        "***else*** is used with the ***for*** and ***while*** loops.\n",
        "\n",
        "***else block*** is executed after the loops are completed the iterations."
      ],
      "metadata": {
        "id": "M8JlvI5shogL"
      }
    },
    {
      "cell_type": "code",
      "source": [
        "# else used with for loop\n",
        "\n",
        "for i in range(1, 11):\n",
        "  if i % 2 == 0:\n",
        "    print(i)\n",
        "else:\n",
        "  print('End of the for loop')"
      ],
      "metadata": {
        "colab": {
          "base_uri": "https://localhost:8080/"
        },
        "id": "i-oAqUgRiG9G",
        "outputId": "78eb548c-9aad-4000-aa70-799ef53eb290"
      },
      "execution_count": null,
      "outputs": [
        {
          "output_type": "stream",
          "name": "stdout",
          "text": [
            "End of the for loop\n"
          ]
        }
      ]
    },
    {
      "cell_type": "code",
      "source": [
        "# else used with while loop\n",
        "i = 1\n",
        "while i <= 10:\n",
        "  if i % 2 != 0:\n",
        "    print(i,end=' ')\n",
        "  i += 1\n",
        "else:\n",
        "  print('\\nEnd of the for loop')"
      ],
      "metadata": {
        "colab": {
          "base_uri": "https://localhost:8080/"
        },
        "id": "-F05RPvhinZK",
        "outputId": "350aaeb1-c15d-486f-eb18-c2c3eb1f75bd"
      },
      "execution_count": null,
      "outputs": [
        {
          "output_type": "stream",
          "name": "stdout",
          "text": [
            "1 3 5 7 9 \n",
            "End of the for loop\n"
          ]
        }
      ]
    },
    {
      "cell_type": "markdown",
      "source": [
        "# Classroom Working Problems"
      ],
      "metadata": {
        "id": "Dump5HG917ti"
      }
    },
    {
      "cell_type": "code",
      "source": [
        "'''\n",
        "1. Write a program to print first 10 natural numbers separated with a tab on same line.\n",
        "'''\n",
        "#write your code here"
      ],
      "metadata": {
        "id": "fkDNSkLSz_JY"
      },
      "execution_count": null,
      "outputs": []
    },
    {
      "cell_type": "code",
      "source": [
        "'''\n",
        "2. Write a program to calucalte sum and average of first 10 natural numbers.\n",
        "'''\n",
        "#write your code here"
      ],
      "metadata": {
        "id": "IAWoa8vl2Ufu"
      },
      "execution_count": null,
      "outputs": []
    },
    {
      "cell_type": "code",
      "source": [
        "'''\n",
        "3. Write a program to print 20 horizontal asterisks(*).\n",
        "'''\n",
        "#write your code here"
      ],
      "metadata": {
        "id": "gpfxmfkW2dUo"
      },
      "execution_count": null,
      "outputs": []
    },
    {
      "cell_type": "code",
      "source": [
        "'''\n",
        "4. Write a program to caluclate the sum and average of numbers between given m to n\n",
        "hint: sum and average between m = 10 n = 25\n",
        "'''"
      ],
      "metadata": {
        "id": "lPKdInV52vnH"
      },
      "execution_count": null,
      "outputs": []
    },
    {
      "cell_type": "code",
      "source": [
        "'''\n",
        "5. Write a program to read the numbers until -1 is encountered.\n",
        "Count the number of negative, positive and zeros enetered by the user.\n",
        "'''\n",
        "#write your code here"
      ],
      "metadata": {
        "id": "PNWdzrpC3IDt"
      },
      "execution_count": null,
      "outputs": []
    },
    {
      "cell_type": "code",
      "source": [
        "'''\n",
        "6. Write a program to read the numbers until -1 is encountered.\n",
        "Caluclate the average of negative numbers and positive numbers entered by the user.\n",
        "'''\n",
        "#write your code here"
      ],
      "metadata": {
        "id": "56E2hp7f3cvD"
      },
      "execution_count": null,
      "outputs": []
    },
    {
      "cell_type": "code",
      "source": [
        "'''\n",
        "7. Write a program to check whether the given number is an Amstrong number or not.\n",
        "'''\n",
        "#write your code here"
      ],
      "metadata": {
        "id": "3GOL49I23x5t"
      },
      "execution_count": null,
      "outputs": []
    },
    {
      "cell_type": "code",
      "source": [
        "'''\n",
        "8. Write a program to read a decimal number, convert into binary equivalent.\n",
        "'''\n",
        "#write your code here"
      ],
      "metadata": {
        "id": "9U7NhKZ_4OU2"
      },
      "execution_count": null,
      "outputs": []
    },
    {
      "cell_type": "code",
      "source": [
        "'''\n",
        "9. Write a program to read a binary number, convert into decimal equivalent.\n",
        "'''\n",
        "#write your code here"
      ],
      "metadata": {
        "id": "PsMfNAwO4sMI"
      },
      "execution_count": null,
      "outputs": []
    },
    {
      "cell_type": "code",
      "source": [
        "'''\n",
        "10. Write a program to read a binary number, convert into decimal equivalent.\n",
        "'''\n",
        "#write your code here"
      ],
      "metadata": {
        "id": "z92NfHaf5EeW"
      },
      "execution_count": null,
      "outputs": []
    },
    {
      "cell_type": "code",
      "source": [
        "'''\n",
        "11. Write a program to read a character until $ is encountered.\n",
        "Count the number of uppercase, lowercase, and numbers entered by the users.\n",
        "'''\n",
        "#write your code here"
      ],
      "metadata": {
        "id": "p43PnS8j5SK_"
      },
      "execution_count": null,
      "outputs": []
    },
    {
      "cell_type": "code",
      "source": [
        "'''\n",
        "12. Write a program to read a number from the user and\n",
        "caluclate the sum of the digits of the given number.\n",
        "'''\n",
        "#write your code here"
      ],
      "metadata": {
        "id": "8-deegr15pXA"
      },
      "execution_count": null,
      "outputs": []
    },
    {
      "cell_type": "code",
      "source": [
        "'''\n",
        "13. Write a program to read two numbers and caluclate GCD of the two given number.\n",
        "'''\n",
        "#write your code here"
      ],
      "metadata": {
        "id": "ftxEy_Jc58Sb"
      },
      "execution_count": null,
      "outputs": []
    },
    {
      "cell_type": "code",
      "source": [
        "'''\n",
        "14. Write a program to read a number and print the reverse the given number.\n",
        "'''\n",
        "#write your code here"
      ],
      "metadata": {
        "id": "0CVOOzl46I1x"
      },
      "execution_count": null,
      "outputs": []
    },
    {
      "cell_type": "code",
      "source": [
        "'''\n",
        "15. Write a program to print the multiplication table of a given number.\n",
        "'''\n",
        "#write your code here"
      ],
      "metadata": {
        "id": "twbRXoUP6mtM"
      },
      "execution_count": null,
      "outputs": []
    },
    {
      "cell_type": "code",
      "source": [
        "'''\n",
        "16. Write a program to caluclate the factorial of a given number.\n",
        "Note: Avoid using math.factorial() function\n",
        "'''\n",
        "#write your code here"
      ],
      "metadata": {
        "id": "k5cBNDSi6x3O"
      },
      "execution_count": null,
      "outputs": []
    },
    {
      "cell_type": "code",
      "source": [
        "'''\n",
        "17. Write a program to caluclate the factorial of a given number.\n",
        "Note: Avoid using math.factorial() function\n",
        "'''\n",
        "#write your code here"
      ],
      "metadata": {
        "id": "b3a2BNSX7CDG"
      },
      "execution_count": null,
      "outputs": []
    },
    {
      "cell_type": "code",
      "source": [
        "'''\n",
        "18. Write a program to read a number and check whether the given number\n",
        "is prime or composite\n",
        "'''\n",
        "#write your code here"
      ],
      "metadata": {
        "id": "PUxsit4N7Inz"
      },
      "execution_count": null,
      "outputs": []
    },
    {
      "cell_type": "code",
      "source": [
        "'''\n",
        "19. Write a program to count prime and composite numbers between m & n.\n",
        "Note: read the values of m & n from the user.\n",
        "'''\n",
        "#write your code here"
      ],
      "metadata": {
        "id": "ilOB5aj17Ug_"
      },
      "execution_count": null,
      "outputs": []
    },
    {
      "cell_type": "code",
      "source": [
        "'''\n",
        "20. Write a program to print leap years beteen given years m & n.\n",
        "Note: read the values of m & n from the user.\n",
        "'''\n",
        "#write your code here"
      ],
      "metadata": {
        "id": "olDwxQaG7jMX"
      },
      "execution_count": null,
      "outputs": []
    },
    {
      "cell_type": "code",
      "source": [
        "'''\n",
        "21. Write a program to caluclate the sum of following series:\n",
        "s = 1 + 1/2 + 1/3 + ... + 1/n\n",
        "s = 1 + 1/2^2 + 1/3^2 + ... + 1/n^2\n",
        "s = 1/2 + 2/3 + 3/4 + ... + n/(n+1)\n",
        "Note: read the value of n from the user\n",
        "'''\n",
        "#write your code here"
      ],
      "metadata": {
        "id": "yKz-z22d71Fr"
      },
      "execution_count": null,
      "outputs": []
    },
    {
      "cell_type": "code",
      "source": [
        "'''\n",
        "22. Write a program to caluclate the cubes of numbers between 1 to n.\n",
        "Note: read the value n from the user.\n",
        "'''\n",
        "#write your code here"
      ],
      "metadata": {
        "id": "OCs51zA39NI8"
      },
      "execution_count": null,
      "outputs": []
    },
    {
      "cell_type": "code",
      "source": [
        "'''\n",
        "23. Write a program to caluclate the square of odd and even numbers between 1 to n.\n",
        "Note: read the value n from the user.\n",
        "'''\n",
        "#write your code here"
      ],
      "metadata": {
        "id": "6QYwxL4a9ZPW"
      },
      "execution_count": null,
      "outputs": []
    },
    {
      "cell_type": "code",
      "source": [
        "'''\n",
        "24. Write a program to generate the calendar of the month given the start day and number\n",
        "of the days in the month.\n",
        "Sample output:\n",
        "Sun  Mon  Tues  Wed  Thurs  Fri  Sat\n",
        "-------------------------------------\n",
        "                 1    2     3     4\n",
        " 5    6     7    8    9     10    11\n",
        " 12  13    14   15   16     17    18\n",
        " 19  20    21   22   23     24    25\n",
        " 26  27    28   29   30\n",
        "'''\n",
        "#write your code here"
      ],
      "metadata": {
        "id": "9iwZXE5w9nv2"
      },
      "execution_count": null,
      "outputs": []
    }
  ]
}