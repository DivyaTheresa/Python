{
  "nbformat": 4,
  "nbformat_minor": 0,
  "metadata": {
    "colab": {
      "provenance": [],
      "authorship_tag": "ABX9TyOezwpkr2AnvkzlNJrvvSFL",
      "include_colab_link": true
    },
    "kernelspec": {
      "name": "python3",
      "display_name": "Python 3"
    },
    "language_info": {
      "name": "python"
    }
  },
  "cells": [
    {
      "cell_type": "markdown",
      "metadata": {
        "id": "view-in-github",
        "colab_type": "text"
      },
      "source": [
        "<a href=\"https://colab.research.google.com/github/DivyaTheresa/Python/blob/main/week2_wipynb.ipynb\" target=\"_parent\"><img src=\"https://colab.research.google.com/assets/colab-badge.svg\" alt=\"Open In Colab\"/></a>"
      ]
    },
    {
      "cell_type": "code",
      "execution_count": null,
      "metadata": {
        "id": "frT9MECsJArZ"
      },
      "outputs": [],
      "source": [
        "'''\n",
        "1.write a program to increase by one the input value if it is greater than 10\n",
        "else decrease by one\n",
        "'''\n",
        "# write your code here\n",
        "a=int(input(\"Enter any number:\"))\n",
        "if (a>10):\n",
        "  b=a+1\n",
        "else:\n",
        "  b=a-1\n",
        "  print(b)"
      ]
    },
    {
      "cell_type": "code",
      "source": [
        "'''\n",
        "2.Write a program to determine whether a person is eligible to vote\n",
        "'''\n",
        "# write your code here\n",
        "a=int(input(\"Enter age:\"))\n",
        "if(a>=18):\n",
        "  print(\"{} Eligible to vote.\".format(a))\n",
        "else:\n",
        "  print(\"{} Not eligible to vote.\".format(a))"
      ],
      "metadata": {
        "id": "QzH0tRGcJMMh"
      },
      "execution_count": null,
      "outputs": []
    },
    {
      "cell_type": "code",
      "source": [
        "'''\n",
        "3.Write a program to determine whether a person is eligible to vote or not\n",
        "'''\n",
        "# write your code here\n",
        "a=int(input(\"Enter age:\"))\n",
        "if(a>18):\n",
        "    print(\"{} Elgible to vote.\".format(a))\n",
        "else:\n",
        "    print(\"{} Not elgible to vote.\".format(a))"
      ],
      "metadata": {
        "id": "8Ckd5RyYJSvJ"
      },
      "execution_count": null,
      "outputs": []
    },
    {
      "cell_type": "code",
      "source": [
        "'''\n",
        "4.Write a program to find the largest of the two given numbers\n",
        "'''\n",
        "# write your code here\n",
        "a=int(input(\"Enter number 1 value:\"))\n",
        "b=int(input(\"Enter number 2 value:\"))\n",
        "if(a>b):\n",
        "  print(\"{} is largest then {}.\".format(a,b))\n",
        "else:\n",
        "  print(\"{} is largest then {}.\".format(b,a))"
      ],
      "metadata": {
        "id": "qtTy6CoFJXoc"
      },
      "execution_count": null,
      "outputs": []
    },
    {
      "cell_type": "code",
      "source": [
        "'''\n",
        "5.Write a program to determine whether the given number is even or odd\n",
        "'''\n",
        "# write your code here\n",
        "a=int(input(\"Enter any number:\"))\n",
        "if (a%2==0):\n",
        "  print(\"{} is even number.\".format(a))\n",
        "else:\n",
        "  print(\"{} is odd number.\".format(a))"
      ],
      "metadata": {
        "id": "Y8DVS9sZJb1H"
      },
      "execution_count": null,
      "outputs": []
    },
    {
      "cell_type": "code",
      "source": [
        "'''\n",
        "6.Write a program to read a year from the user. Check if the entered year is\n",
        "a leap year or not\n",
        "'''\n",
        "# write your code here\n",
        "a=int(input(\"Enter any year\"))\n",
        "if(a%400==0) and (a%100==0):\n",
        "  print(\"{} is a leap year.\".format(a))\n",
        "elif(a%4==0) and (a%100!=0):\n",
        "  print(\"{} is a leap year.\".format(a))\n",
        "else:\n",
        "  print(\"{} is not a leap year.\".format(a))\n",
        "\n"
      ],
      "metadata": {
        "id": "L8Ff033ZJha_"
      },
      "execution_count": null,
      "outputs": []
    },
    {
      "cell_type": "code",
      "source": [
        "'''\n",
        " 7.Write a program to read a value from the user and print whether it is a:\n",
        " positive\n",
        " negative\n",
        " zero\n",
        "'''\n",
        "# write your code here\n",
        "a=int(input(\"Enter any number:\"))\n",
        "if(a>0):\n",
        "  print(\"{} is a positive number.\".format(a))\n",
        "elif(a<0):\n",
        "  print(\"{} is a negative number.\".format(a))\n",
        "else:\n",
        "  print(\"{} is Zero.\".format(a))\n",
        "\n"
      ],
      "metadata": {
        "id": "HeIpdRY9JkJF"
      },
      "execution_count": null,
      "outputs": []
    },
    {
      "cell_type": "code",
      "source": [
        "'''\n",
        " 7.Write a program to read a value from the user and\n",
        " print the in which interval the value is in.\n",
        " Hint: 13 belongs to 10 - 20 interval\n",
        "       20 belogns to 20 - 30 interval\n",
        "'''\n",
        "# write your code here\n",
        "a=int(input(\"Enter any number between 0 to 20:\"))\n",
        "if(a>0 and a<=10):\n",
        "  print(\"{} belongs to 0 - 10 interval.\".format(a))\n",
        "else:\n",
        "  print(\"{} belongs to 10 - 20\")"
      ],
      "metadata": {
        "id": "pvzxQ2hDJrYA"
      },
      "execution_count": null,
      "outputs": []
    },
    {
      "cell_type": "code",
      "source": [
        "'''\n",
        "8. Write a program to read a character from the user and check as follows:\n",
        "1. It is digit\n",
        "2. Special symbol\n",
        "3. If it is a alphabet, then check whether it is upper case or lower case alphabet\n",
        "\n",
        "Note: Write both versions 1. Using library functions 2. Without using library functions\n",
        "'''\n",
        "def charCheck(input_char):\n",
        "    if ((int(ord(input_char)) >= 65 and\n",
        "        int(ord(input_char)) <= 90) or\n",
        "        (int(ord(input_char)) >= 97 and\n",
        "        int(ord(input_char)) <= 122)):\n",
        "        print( \" Alphabet \")\n",
        "    elif (int(ord(input_char)) >= 48 and\n",
        "            int(ord(input_char)) <= 57):\n",
        "        print(\" Digit \")\n",
        "    else:\n",
        "        print(\" Special Character \")"
      ],
      "metadata": {
        "id": "pQmyqx47Jum1"
      },
      "execution_count": null,
      "outputs": []
    },
    {
      "cell_type": "code",
      "source": [
        "'''\n",
        "9. Wirte a program to find the roots of a quadratic equation.\n",
        "'''\n",
        "# write your code here\n",
        "import math\n",
        "a=int(input(\"Enter a value:\"))\n",
        "b=int(input(\"Enter b value:\"))\n",
        "c=int(input(\"Enter c value:\"))\n",
        "d=(b**2)-(4*a*c)\n",
        "sol1=(-b-(math.sqrt(b*b-4*a*c)))/2\n",
        "sol2=(-b+(math.sqrt(b*b-4*a*c)))/2\n",
        "print(\"The roots of quadratic euation are {} and {}\".format(sol1,sol2))"
      ],
      "metadata": {
        "id": "LZiA8q0DJ8_k"
      },
      "execution_count": null,
      "outputs": []
    },
    {
      "cell_type": "code",
      "source": [
        "def arithmetic(a,b):\n",
        "  c=a+b\n",
        "  d=a-b\n",
        "  e=a*b\n",
        "  f=a/b\n",
        "  g=a%b\n",
        "  print(c,d,e,f,g)\n",
        "a=int(input(\"Enter value of a:\"))\n",
        "b=int(input(\"Enter value of b:\"))\n",
        "arithmetic(a,b)"
      ],
      "metadata": {
        "id": "x_LvKUnQK6DH"
      },
      "execution_count": null,
      "outputs": []
    },
    {
      "cell_type": "code",
      "source": [
        "def addition(a,b):\n",
        "  c=a+b\n",
        "  print(c)\n",
        "def subtration(a,b):\n",
        "   c=a-b\n",
        "   print(c)\n",
        "def multiplication(a,b):\n",
        "  c=a*b\n",
        "  print(c)\n",
        "def division(a,b):\n",
        "   c=a/b\n",
        "   print(c)\n",
        "def radius(a,b):\n",
        "   c=a%b\n",
        "   print(c)\n",
        "a=int(input(\"Enter value of a:\"))\n",
        "b=int(input(\"Enter value of b:\"))\n",
        "arithmetic(a,b)"
      ],
      "metadata": {
        "id": "CQ8yJTHUo5SI"
      },
      "execution_count": null,
      "outputs": []
    },
    {
      "cell_type": "code",
      "source": [
        "def power(a,b):\n",
        "  c=a**b\n",
        "  return(c)\n",
        "a=int(input(\"Enter value of a:\"))\n",
        "b=int(input(\"Enter value of b:\"))\n",
        "power(a,b)\n",
        "x=power(a,b)\n",
        "print(x)"
      ],
      "metadata": {
        "id": "moE-KBpao8vr"
      },
      "execution_count": null,
      "outputs": []
    }
  ]
}