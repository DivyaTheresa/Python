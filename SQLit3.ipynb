{
  "nbformat": 4,
  "nbformat_minor": 0,
  "metadata": {
    "colab": {
      "provenance": [],
      "authorship_tag": "ABX9TyNxYDyc5bKue+6ZLoWrpRHg",
      "include_colab_link": true
    },
    "kernelspec": {
      "name": "python3",
      "display_name": "Python 3"
    },
    "language_info": {
      "name": "python"
    }
  },
  "cells": [
    {
      "cell_type": "markdown",
      "metadata": {
        "id": "view-in-github",
        "colab_type": "text"
      },
      "source": [
        "<a href=\"https://colab.research.google.com/github/DivyaTheresa/Python/blob/main/SQLit3.ipynb\" target=\"_parent\"><img src=\"https://colab.research.google.com/assets/colab-badge.svg\" alt=\"Open In Colab\"/></a>"
      ]
    },
    {
      "cell_type": "markdown",
      "source": [
        "SQl=structure qurry language\n",
        "it is a database\n",
        "my sql=microsoft\n",
        "ibm sql etc..\n",
        "SQlite:which is light\n",
        "backend=database\n",
        "frontend=software\n",
        "gui (grarphical user interface)\n",
        "CRUD\n",
        "Create,Read,Update,and Delete\n",
        "Matplotlib: ploting the graph\n",
        "what is SQlite?\n",
        "It is a embedded relational management system.\n",
        "DBMA\n",
        "|\n",
        "^\n",
        "RDBMS-----> r*c\n",
        "^\n",
        "|\n",
        "SQLite-3 ----> Pythn\n",
        "SQl can be axcess directly\n",
        "SQl(severless)\n"
      ],
      "metadata": {
        "id": "NLqkhvUkuAHA"
      }
    },
    {
      "cell_type": "code",
      "source": [
        "import sqlite3 as sq\n",
        "conctobj=sq.connect(\"coursedata.db\")\n"
      ],
      "metadata": {
        "id": "wOFiwMg641VJ"
      },
      "execution_count": null,
      "outputs": []
    },
    {
      "cell_type": "markdown",
      "source": [
        "#python code to create a relation\n",
        "#using SQlite3"
      ],
      "metadata": {
        "id": "ydDyRUcBsoIU"
      }
    },
    {
      "cell_type": "code",
      "source": [
        "import sqlite3\n",
        "cnt=sqlite3.connect(\"backup.dp\")\n",
        "cnt.execute('''Create table gfg1(Name text,points integer,accuracy real);''')"
      ],
      "metadata": {
        "colab": {
          "base_uri": "https://localhost:8080/"
        },
        "id": "2g6dLmX3rzA8",
        "outputId": "34f8fa05-f3da-4e2d-a9e6-cf3b90d440ad"
      },
      "execution_count": null,
      "outputs": [
        {
          "output_type": "execute_result",
          "data": {
            "text/plain": [
              "<sqlite3.Cursor at 0x7f0057a8e6c0>"
            ]
          },
          "metadata": {},
          "execution_count": 25
        }
      ]
    },
    {
      "cell_type": "code",
      "source": [
        "cnt.execute('''INSERT INTO gfg1 VALUES('Count Inversion',20,80.5);''')\n",
        "cnt.execute('''INSERT INTO gfg1(ACCURACY,POINTS,NAME)VALUES(90.5,15,' KANADAS ALSO');''')\n",
        "cnt.execute('''INSERT INTO gfg1(ACCURACY,POINTS,NAME)VALUES('REVERSE str',100,5);''')\n",
        "cnt.commit()"
      ],
      "metadata": {
        "id": "h8uvDzBHtear"
      },
      "execution_count": null,
      "outputs": []
    },
    {
      "cell_type": "code",
      "source": [
        "print('Name, Points and Accuracy from'\n",
        "      'records with accuracy greater than 85')\n",
        "cursor=cnt.execute('''SELECT*FROM gfg;''')\n",
        "for i in cursor:\n",
        "  print(i[0]+\"  \"+str(i[1])+\"  \"+str(i[2]))\n",
        "print(\"\")\n"
      ],
      "metadata": {
        "colab": {
          "base_uri": "https://localhost:8080/"
        },
        "id": "lF8RwL1awnnn",
        "outputId": "f94db96d-161d-4da9-d8e3-5f45cee9737a"
      },
      "execution_count": null,
      "outputs": [
        {
          "output_type": "stream",
          "name": "stdout",
          "text": [
            "Name, Points and Accuracy fromrecords with accuracy greater than 85\n",
            "Count Inversion  20  80.5\n",
            "Count Inversion  20  80.5\n",
            " KANADAS ALSO  15  90.5\n",
            "5  100  REVERSE str\n",
            "\n"
          ]
        }
      ]
    },
    {
      "cell_type": "code",
      "source": [
        "print('''UPDATE gfg SET POINTS=PONINTS+5 WHERE POINT<20;''')\n",
        "cursor=cnt.execute('''SELECT*FROM gfg;''')\n",
        "print('After Updation')\n",
        "for i in cursor:\n",
        "  print(i[0]+\"  \"+str(i[1])+\"  \"+str(i[2]))\n",
        "print(\"\")\n",
        "cnt.execute(''' DELETE FROM gfg WHERE ACCURACY>91;''')\n",
        "cursor=cnt.execute('''SELECT*FROM gfg;''')\n",
        "print('After Deletion')\n",
        "for i in cursor:\n",
        "     print(i[0]+\"  \"+str(i[1])+\"  \"+str(i[2]))"
      ],
      "metadata": {
        "colab": {
          "base_uri": "https://localhost:8080/"
        },
        "id": "X2ITl0dd1AYp",
        "outputId": "c1e59f54-a6ce-4e63-f83a-58e17ffe9632"
      },
      "execution_count": null,
      "outputs": [
        {
          "output_type": "stream",
          "name": "stdout",
          "text": [
            "UPDATE gfg SET POINTS=PONINTS+5 WHERE POINT<20;\n",
            "After Updation\n",
            "Count Inversion  20  80.5\n",
            "Count Inversion  20  80.5\n",
            " KANADAS ALSO  15  90.5\n",
            "5  100  REVERSE str\n",
            "\n",
            "After Deletion\n",
            "Count Inversion  20  80.5\n",
            "Count Inversion  20  80.5\n",
            " KANADAS ALSO  15  90.5\n"
          ]
        }
      ]
    },
    {
      "cell_type": "code",
      "source": [
        "import sqlite3\n",
        "cnt=sqlite3.connect(\"XYZ.dp\")\n",
        "cnt.execute('''Create table Studenttable1(Registationno integer,Name text,sub1 integer,sub2 integer, Average Real);''')"
      ],
      "metadata": {
        "colab": {
          "base_uri": "https://localhost:8080/"
        },
        "id": "cIh1M29F3zoK",
        "outputId": "c6052cf0-9be8-4ca5-ca0c-fbdec6a3d675"
      },
      "execution_count": null,
      "outputs": [
        {
          "output_type": "execute_result",
          "data": {
            "text/plain": [
              "<sqlite3.Cursor at 0x7f004b05a5e0>"
            ]
          },
          "metadata": {},
          "execution_count": 40
        }
      ]
    },
    {
      "cell_type": "code",
      "source": [
        "cnt.execute('''INSERT INTO Studenttable1 VALUES('Registationno',123,1234,12345,123456,1234567);''')\n",
        "cnt.execute('''INSERT INTO Studenttable1(Name,))VALUES(90.5,15,' KANADAS ALSO');''')\n",
        "cnt.execute('''INSERT INTO Studenttable1(ACCURACY,POINTS,NAME)VALUES('REVERSE str',100,5);''')\n",
        "cnt.commit()"
      ],
      "metadata": {
        "id": "QWyddhw45yaJ"
      },
      "execution_count": null,
      "outputs": []
    }
  ]
}